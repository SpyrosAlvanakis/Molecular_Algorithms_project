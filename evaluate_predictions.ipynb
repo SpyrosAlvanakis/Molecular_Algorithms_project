{
 "cells": [
  {
   "cell_type": "code",
   "execution_count": 1,
   "metadata": {
    "collapsed": true
   },
   "outputs": [],
   "source": [
    "import os\n",
    "import pandas as pd\n",
    "import re"
   ]
  },
  {
   "cell_type": "code",
   "execution_count": 10,
   "outputs": [
    {
     "data": {
      "text/plain": "                            Subgroup  Position  Max_Value            Range  \\\n0        Ada_1_209398-209425-forward       263      913.0  range(256, 271)   \n1      Ada_1_2145603-2145630-reverse       157      511.0  range(150, 165)   \n2      Ada_1_2308475-2308502-reverse        43      687.0    range(36, 51)   \n3        Ada_2_209398-209425-forward        24      121.0    range(17, 32)   \n4      Ada_2_2145603-2145630-reverse       386       96.0  range(379, 394)   \n...                              ...       ...        ...              ...   \n2227  XylR_2_3728622-3728637-forward       115      821.0  range(108, 123)   \n2228  XylR_3_3728472-3728487-reverse        99      142.0   range(92, 107)   \n2229  XylR_3_3728622-3728637-forward       169      142.0  range(162, 177)   \n2230  XylR_5_3728472-3728487-reverse       150       80.0  range(143, 158)   \n2231  XylR_5_3728622-3728637-forward       158       80.0  range(151, 166)   \n\n      Target_Start_pos  Target_Stop_pos Input_Sequence  \n0                    0                0                 \n1                    0                0                 \n2                    0                0                 \n3                    0                0                 \n4                    0                0                 \n...                ...              ...            ...  \n2227                 0                0                 \n2228                 0                0                 \n2229                 0                0                 \n2230                 0                0                 \n2231                 0                0                 \n\n[2232 rows x 7 columns]",
      "text/html": "<div>\n<style scoped>\n    .dataframe tbody tr th:only-of-type {\n        vertical-align: middle;\n    }\n\n    .dataframe tbody tr th {\n        vertical-align: top;\n    }\n\n    .dataframe thead th {\n        text-align: right;\n    }\n</style>\n<table border=\"1\" class=\"dataframe\">\n  <thead>\n    <tr style=\"text-align: right;\">\n      <th></th>\n      <th>Subgroup</th>\n      <th>Position</th>\n      <th>Max_Value</th>\n      <th>Range</th>\n      <th>Target_Start_pos</th>\n      <th>Target_Stop_pos</th>\n      <th>Input_Sequence</th>\n    </tr>\n  </thead>\n  <tbody>\n    <tr>\n      <th>0</th>\n      <td>Ada_1_209398-209425-forward</td>\n      <td>263</td>\n      <td>913.0</td>\n      <td>range(256, 271)</td>\n      <td>0</td>\n      <td>0</td>\n      <td></td>\n    </tr>\n    <tr>\n      <th>1</th>\n      <td>Ada_1_2145603-2145630-reverse</td>\n      <td>157</td>\n      <td>511.0</td>\n      <td>range(150, 165)</td>\n      <td>0</td>\n      <td>0</td>\n      <td></td>\n    </tr>\n    <tr>\n      <th>2</th>\n      <td>Ada_1_2308475-2308502-reverse</td>\n      <td>43</td>\n      <td>687.0</td>\n      <td>range(36, 51)</td>\n      <td>0</td>\n      <td>0</td>\n      <td></td>\n    </tr>\n    <tr>\n      <th>3</th>\n      <td>Ada_2_209398-209425-forward</td>\n      <td>24</td>\n      <td>121.0</td>\n      <td>range(17, 32)</td>\n      <td>0</td>\n      <td>0</td>\n      <td></td>\n    </tr>\n    <tr>\n      <th>4</th>\n      <td>Ada_2_2145603-2145630-reverse</td>\n      <td>386</td>\n      <td>96.0</td>\n      <td>range(379, 394)</td>\n      <td>0</td>\n      <td>0</td>\n      <td></td>\n    </tr>\n    <tr>\n      <th>...</th>\n      <td>...</td>\n      <td>...</td>\n      <td>...</td>\n      <td>...</td>\n      <td>...</td>\n      <td>...</td>\n      <td>...</td>\n    </tr>\n    <tr>\n      <th>2227</th>\n      <td>XylR_2_3728622-3728637-forward</td>\n      <td>115</td>\n      <td>821.0</td>\n      <td>range(108, 123)</td>\n      <td>0</td>\n      <td>0</td>\n      <td></td>\n    </tr>\n    <tr>\n      <th>2228</th>\n      <td>XylR_3_3728472-3728487-reverse</td>\n      <td>99</td>\n      <td>142.0</td>\n      <td>range(92, 107)</td>\n      <td>0</td>\n      <td>0</td>\n      <td></td>\n    </tr>\n    <tr>\n      <th>2229</th>\n      <td>XylR_3_3728622-3728637-forward</td>\n      <td>169</td>\n      <td>142.0</td>\n      <td>range(162, 177)</td>\n      <td>0</td>\n      <td>0</td>\n      <td></td>\n    </tr>\n    <tr>\n      <th>2230</th>\n      <td>XylR_5_3728472-3728487-reverse</td>\n      <td>150</td>\n      <td>80.0</td>\n      <td>range(143, 158)</td>\n      <td>0</td>\n      <td>0</td>\n      <td></td>\n    </tr>\n    <tr>\n      <th>2231</th>\n      <td>XylR_5_3728622-3728637-forward</td>\n      <td>158</td>\n      <td>80.0</td>\n      <td>range(151, 166)</td>\n      <td>0</td>\n      <td>0</td>\n      <td></td>\n    </tr>\n  </tbody>\n</table>\n<p>2232 rows × 7 columns</p>\n</div>"
     },
     "execution_count": 10,
     "metadata": {},
     "output_type": "execute_result"
    }
   ],
   "source": [
    "predictions_df = pd.read_csv(os.path.join(os.getcwd(), 'CSVs/extraction/positions.csv'))\n",
    "predictions_df['Target_Start_pos'] = pd.DataFrame([0 for _ in range(predictions_df.shape[0])])\n",
    "predictions_df['Target_Stop_pos'] = pd.DataFrame([0 for _ in range(predictions_df.shape[0])])\n",
    "predictions_df['Input_Sequence'] = pd.DataFrame(['' for _ in range(predictions_df.shape[0])])\n",
    "predictions_df"
   ],
   "metadata": {
    "collapsed": false,
    "pycharm": {
     "name": "#%%\n"
    }
   }
  },
  {
   "cell_type": "code",
   "execution_count": 3,
   "outputs": [],
   "source": [
    "dataset_path = os.path.join(os.getcwd(), 'Data/datasetB200')\n",
    "input_files = os.listdir(dataset_path)\n",
    "\n",
    "true_motifs_path = os.path.join(os.getcwd(), 'Data/ecoli.motifs')\n",
    "ground_truth_motif_files = os.listdir(true_motifs_path)"
   ],
   "metadata": {
    "collapsed": false,
    "pycharm": {
     "name": "#%%\n"
    }
   }
  },
  {
   "cell_type": "code",
   "execution_count": 11,
   "outputs": [],
   "source": [
    "def make_motif_group_df(text):\n",
    "    headers = []\n",
    "    sequences = []\n",
    "\n",
    "    # Iterate over the lines\n",
    "    for line in text:\n",
    "        line = line.strip()\n",
    "        if line.startswith('>'):\n",
    "            # Extract the header (row starting with \">\")\n",
    "            headers.append(line[1:])\n",
    "        else:\n",
    "            # Extract the sequence\n",
    "            sequences.append(line)\n",
    "\n",
    "    # Create a DataFrame from the lists\n",
    "    df = pd.DataFrame({'Sequence_ID': headers, 'Sequence': sequences})\n",
    "    return df\n",
    "\n",
    "for motif_group_file in input_files:\n",
    "    filename = motif_group_file.split('.txt')[0]\n",
    "\n",
    "    with open(os.path.join(dataset_path, motif_group_file), 'r') as file:\n",
    "        motif_group = file.readlines()\n",
    "\n",
    "    motif_group_df = make_motif_group_df(motif_group)\n",
    "\n",
    "    col_names = ['ECK1', 'File_name', 'ECK2', 'Starting_position', 'Ending_position', 'Orientation',\n",
    "                 'Association', 'Sequence', 'Additional', 'Label']\n",
    "    targets_df = pd.read_csv(os.path.join(true_motifs_path, motif_group_file), sep='\\t', names=col_names)\n",
    "    targets_df['Sequence_ID'] = targets_df['Starting_position'].astype(str) + '-' + targets_df['Ending_position'].astype(str) + '-' + targets_df['Orientation']\n",
    "\n",
    "    for idx, target_motif in targets_df.iterrows():\n",
    "        seq_id = target_motif['Sequence_ID']\n",
    "        seq_id_mask = motif_group_df['Sequence_ID'] == seq_id\n",
    "        seq_index = list(motif_group_df[seq_id_mask].index)\n",
    "        if len(seq_index) > 0:\n",
    "            index = seq_index[0]\n",
    "            input_sequence = str(motif_group_df.iloc[index]['Sequence']).strip()\n",
    "\n",
    "            target_motif_sequence = target_motif['Sequence']\n",
    "            uppercase_part = re.findall('[A-Z]+', target_motif_sequence)\n",
    "\n",
    "            try:\n",
    "                target_site = uppercase_part[0]\n",
    "                target_site_start_pos = input_sequence.index(target_site)\n",
    "                target_site_end_pos = target_site_start_pos + len(target_site)\n",
    "\n",
    "                mask_predicted_seq_id = predictions_df['Subgroup'].str.contains(seq_id)\n",
    "                predicted_sites = predictions_df[mask_predicted_seq_id]\n",
    "                for pred_idx, row in predicted_sites.iterrows():\n",
    "                    predictions_df.at[pred_idx, 'Target_Start_pos']= target_site_start_pos\n",
    "                    predictions_df.at[pred_idx, 'Target_Stop_pos'] = target_site_end_pos\n",
    "                    predictions_df['Input_Sequence'] = input_sequence\n",
    "            except IndexError:\n",
    "                print(filename, seq_id)\n",
    "        else:\n",
    "            pass"
   ],
   "metadata": {
    "collapsed": false,
    "pycharm": {
     "name": "#%%\n"
    }
   }
  },
  {
   "cell_type": "code",
   "execution_count": 12,
   "outputs": [],
   "source": [
    "predictions_df['Predicted_Start_pos'] = predictions_df['Position']-7\n",
    "predictions_df['Predicted_Stop_pos'] = predictions_df['Position']+7\n",
    "\n",
    "predictions_df.to_csv(os.path.join(os.getcwd(), 'CSVs/extraction/positions_with_ground_truth.csv'), index=False, encoding='utf-8')"
   ],
   "metadata": {
    "collapsed": false,
    "pycharm": {
     "name": "#%%\n"
    }
   }
  },
  {
   "cell_type": "code",
   "execution_count": 13,
   "outputs": [
    {
     "data": {
      "text/plain": "                            Subgroup  Position  Max_Value            Range  \\\n0        Ada_1_209398-209425-forward       263      913.0  range(256, 271)   \n1      Ada_1_2145603-2145630-reverse       157      511.0  range(150, 165)   \n2      Ada_1_2308475-2308502-reverse        43      687.0    range(36, 51)   \n3        Ada_2_209398-209425-forward        24      121.0    range(17, 32)   \n4      Ada_2_2145603-2145630-reverse       386       96.0  range(379, 394)   \n...                              ...       ...        ...              ...   \n2227  XylR_2_3728622-3728637-forward       115      821.0  range(108, 123)   \n2228  XylR_3_3728472-3728487-reverse        99      142.0   range(92, 107)   \n2229  XylR_3_3728622-3728637-forward       169      142.0  range(162, 177)   \n2230  XylR_5_3728472-3728487-reverse       150       80.0  range(143, 158)   \n2231  XylR_5_3728622-3728637-forward       158       80.0  range(151, 166)   \n\n      Target_Start_pos  Target_Stop_pos  \\\n0                  200              228   \n1                  200              228   \n2                  200              228   \n3                  200              228   \n4                  200              228   \n...                ...              ...   \n2227               200              216   \n2228               200              216   \n2229               200              216   \n2230               200              216   \n2231               200              216   \n\n                                         Input_Sequence  Predicted_Start_pos  \\\n0     CCGCAGACGCACTTTCCAAGTCTATTTAGACCATATTTCGCGCCGC...                  256   \n1     CCGCAGACGCACTTTCCAAGTCTATTTAGACCATATTTCGCGCCGC...                  150   \n2     CCGCAGACGCACTTTCCAAGTCTATTTAGACCATATTTCGCGCCGC...                   36   \n3     CCGCAGACGCACTTTCCAAGTCTATTTAGACCATATTTCGCGCCGC...                   17   \n4     CCGCAGACGCACTTTCCAAGTCTATTTAGACCATATTTCGCGCCGC...                  379   \n...                                                 ...                  ...   \n2227  CCGCAGACGCACTTTCCAAGTCTATTTAGACCATATTTCGCGCCGC...                  108   \n2228  CCGCAGACGCACTTTCCAAGTCTATTTAGACCATATTTCGCGCCGC...                   92   \n2229  CCGCAGACGCACTTTCCAAGTCTATTTAGACCATATTTCGCGCCGC...                  162   \n2230  CCGCAGACGCACTTTCCAAGTCTATTTAGACCATATTTCGCGCCGC...                  143   \n2231  CCGCAGACGCACTTTCCAAGTCTATTTAGACCATATTTCGCGCCGC...                  151   \n\n      Predicted_Stop_pos  \n0                    270  \n1                    164  \n2                     50  \n3                     31  \n4                    393  \n...                  ...  \n2227                 122  \n2228                 106  \n2229                 176  \n2230                 157  \n2231                 165  \n\n[2232 rows x 9 columns]",
      "text/html": "<div>\n<style scoped>\n    .dataframe tbody tr th:only-of-type {\n        vertical-align: middle;\n    }\n\n    .dataframe tbody tr th {\n        vertical-align: top;\n    }\n\n    .dataframe thead th {\n        text-align: right;\n    }\n</style>\n<table border=\"1\" class=\"dataframe\">\n  <thead>\n    <tr style=\"text-align: right;\">\n      <th></th>\n      <th>Subgroup</th>\n      <th>Position</th>\n      <th>Max_Value</th>\n      <th>Range</th>\n      <th>Target_Start_pos</th>\n      <th>Target_Stop_pos</th>\n      <th>Input_Sequence</th>\n      <th>Predicted_Start_pos</th>\n      <th>Predicted_Stop_pos</th>\n    </tr>\n  </thead>\n  <tbody>\n    <tr>\n      <th>0</th>\n      <td>Ada_1_209398-209425-forward</td>\n      <td>263</td>\n      <td>913.0</td>\n      <td>range(256, 271)</td>\n      <td>200</td>\n      <td>228</td>\n      <td>CCGCAGACGCACTTTCCAAGTCTATTTAGACCATATTTCGCGCCGC...</td>\n      <td>256</td>\n      <td>270</td>\n    </tr>\n    <tr>\n      <th>1</th>\n      <td>Ada_1_2145603-2145630-reverse</td>\n      <td>157</td>\n      <td>511.0</td>\n      <td>range(150, 165)</td>\n      <td>200</td>\n      <td>228</td>\n      <td>CCGCAGACGCACTTTCCAAGTCTATTTAGACCATATTTCGCGCCGC...</td>\n      <td>150</td>\n      <td>164</td>\n    </tr>\n    <tr>\n      <th>2</th>\n      <td>Ada_1_2308475-2308502-reverse</td>\n      <td>43</td>\n      <td>687.0</td>\n      <td>range(36, 51)</td>\n      <td>200</td>\n      <td>228</td>\n      <td>CCGCAGACGCACTTTCCAAGTCTATTTAGACCATATTTCGCGCCGC...</td>\n      <td>36</td>\n      <td>50</td>\n    </tr>\n    <tr>\n      <th>3</th>\n      <td>Ada_2_209398-209425-forward</td>\n      <td>24</td>\n      <td>121.0</td>\n      <td>range(17, 32)</td>\n      <td>200</td>\n      <td>228</td>\n      <td>CCGCAGACGCACTTTCCAAGTCTATTTAGACCATATTTCGCGCCGC...</td>\n      <td>17</td>\n      <td>31</td>\n    </tr>\n    <tr>\n      <th>4</th>\n      <td>Ada_2_2145603-2145630-reverse</td>\n      <td>386</td>\n      <td>96.0</td>\n      <td>range(379, 394)</td>\n      <td>200</td>\n      <td>228</td>\n      <td>CCGCAGACGCACTTTCCAAGTCTATTTAGACCATATTTCGCGCCGC...</td>\n      <td>379</td>\n      <td>393</td>\n    </tr>\n    <tr>\n      <th>...</th>\n      <td>...</td>\n      <td>...</td>\n      <td>...</td>\n      <td>...</td>\n      <td>...</td>\n      <td>...</td>\n      <td>...</td>\n      <td>...</td>\n      <td>...</td>\n    </tr>\n    <tr>\n      <th>2227</th>\n      <td>XylR_2_3728622-3728637-forward</td>\n      <td>115</td>\n      <td>821.0</td>\n      <td>range(108, 123)</td>\n      <td>200</td>\n      <td>216</td>\n      <td>CCGCAGACGCACTTTCCAAGTCTATTTAGACCATATTTCGCGCCGC...</td>\n      <td>108</td>\n      <td>122</td>\n    </tr>\n    <tr>\n      <th>2228</th>\n      <td>XylR_3_3728472-3728487-reverse</td>\n      <td>99</td>\n      <td>142.0</td>\n      <td>range(92, 107)</td>\n      <td>200</td>\n      <td>216</td>\n      <td>CCGCAGACGCACTTTCCAAGTCTATTTAGACCATATTTCGCGCCGC...</td>\n      <td>92</td>\n      <td>106</td>\n    </tr>\n    <tr>\n      <th>2229</th>\n      <td>XylR_3_3728622-3728637-forward</td>\n      <td>169</td>\n      <td>142.0</td>\n      <td>range(162, 177)</td>\n      <td>200</td>\n      <td>216</td>\n      <td>CCGCAGACGCACTTTCCAAGTCTATTTAGACCATATTTCGCGCCGC...</td>\n      <td>162</td>\n      <td>176</td>\n    </tr>\n    <tr>\n      <th>2230</th>\n      <td>XylR_5_3728472-3728487-reverse</td>\n      <td>150</td>\n      <td>80.0</td>\n      <td>range(143, 158)</td>\n      <td>200</td>\n      <td>216</td>\n      <td>CCGCAGACGCACTTTCCAAGTCTATTTAGACCATATTTCGCGCCGC...</td>\n      <td>143</td>\n      <td>157</td>\n    </tr>\n    <tr>\n      <th>2231</th>\n      <td>XylR_5_3728622-3728637-forward</td>\n      <td>158</td>\n      <td>80.0</td>\n      <td>range(151, 166)</td>\n      <td>200</td>\n      <td>216</td>\n      <td>CCGCAGACGCACTTTCCAAGTCTATTTAGACCATATTTCGCGCCGC...</td>\n      <td>151</td>\n      <td>165</td>\n    </tr>\n  </tbody>\n</table>\n<p>2232 rows × 9 columns</p>\n</div>"
     },
     "execution_count": 13,
     "metadata": {},
     "output_type": "execute_result"
    }
   ],
   "source": [
    "predictions_df"
   ],
   "metadata": {
    "collapsed": false,
    "pycharm": {
     "name": "#%%\n"
    }
   }
  },
  {
   "cell_type": "code",
   "execution_count": 8,
   "outputs": [
    {
     "data": {
      "text/plain": "                            Subgroup  Position  Max_Value            Range  \\\n0        Ada_1_209398-209425-forward       263      913.0  range(256, 271)   \n1      Ada_1_2145603-2145630-reverse       157      511.0  range(150, 165)   \n2      Ada_1_2308475-2308502-reverse        43      687.0    range(36, 51)   \n3        Ada_2_209398-209425-forward        24      121.0    range(17, 32)   \n4      Ada_2_2145603-2145630-reverse       386       96.0  range(379, 394)   \n...                              ...       ...        ...              ...   \n2227  XylR_2_3728622-3728637-forward       115      821.0  range(108, 123)   \n2228  XylR_3_3728472-3728487-reverse        99      142.0   range(92, 107)   \n2229  XylR_3_3728622-3728637-forward       169      142.0  range(162, 177)   \n2230  XylR_5_3728472-3728487-reverse       150       80.0  range(143, 158)   \n2231  XylR_5_3728622-3728637-forward       158       80.0  range(151, 166)   \n\n      Target_Start_pos  Target_Stop_pos  \\\n0                  200              228   \n1                  200              228   \n2                  200              228   \n3                  200              228   \n4                  200              228   \n...                ...              ...   \n2227               200              216   \n2228               200              216   \n2229               200              216   \n2230               200              216   \n2231               200              216   \n\n                                         Input_Sequence  Predicted_Start_pos  \\\n0     CCGCAGACGCACTTTCCAAGTCTATTTAGACCATATTTCGCGCCGC...                  256   \n1     CCGCAGACGCACTTTCCAAGTCTATTTAGACCATATTTCGCGCCGC...                  150   \n2     CCGCAGACGCACTTTCCAAGTCTATTTAGACCATATTTCGCGCCGC...                   36   \n3     CCGCAGACGCACTTTCCAAGTCTATTTAGACCATATTTCGCGCCGC...                   17   \n4     CCGCAGACGCACTTTCCAAGTCTATTTAGACCATATTTCGCGCCGC...                  379   \n...                                                 ...                  ...   \n2227  CCGCAGACGCACTTTCCAAGTCTATTTAGACCATATTTCGCGCCGC...                  108   \n2228  CCGCAGACGCACTTTCCAAGTCTATTTAGACCATATTTCGCGCCGC...                   92   \n2229  CCGCAGACGCACTTTCCAAGTCTATTTAGACCATATTTCGCGCCGC...                  162   \n2230  CCGCAGACGCACTTTCCAAGTCTATTTAGACCATATTTCGCGCCGC...                  143   \n2231  CCGCAGACGCACTTTCCAAGTCTATTTAGACCATATTTCGCGCCGC...                  151   \n\n      Predicted_Stop_pos  nPC  nSn  nSp  \n0                    270  0.0  0.0  0.0  \n1                    164  0.0  0.0  0.0  \n2                     50  0.0  0.0  0.0  \n3                     31  0.0  0.0  0.0  \n4                    393  0.0  0.0  0.0  \n...                  ...  ...  ...  ...  \n2227                 122  0.0  0.0  0.0  \n2228                 106  0.0  0.0  0.0  \n2229                 176  0.0  0.0  0.0  \n2230                 157  0.0  0.0  0.0  \n2231                 165  0.0  0.0  0.0  \n\n[2232 rows x 12 columns]",
      "text/html": "<div>\n<style scoped>\n    .dataframe tbody tr th:only-of-type {\n        vertical-align: middle;\n    }\n\n    .dataframe tbody tr th {\n        vertical-align: top;\n    }\n\n    .dataframe thead th {\n        text-align: right;\n    }\n</style>\n<table border=\"1\" class=\"dataframe\">\n  <thead>\n    <tr style=\"text-align: right;\">\n      <th></th>\n      <th>Subgroup</th>\n      <th>Position</th>\n      <th>Max_Value</th>\n      <th>Range</th>\n      <th>Target_Start_pos</th>\n      <th>Target_Stop_pos</th>\n      <th>Input_Sequence</th>\n      <th>Predicted_Start_pos</th>\n      <th>Predicted_Stop_pos</th>\n      <th>nPC</th>\n      <th>nSn</th>\n      <th>nSp</th>\n    </tr>\n  </thead>\n  <tbody>\n    <tr>\n      <th>0</th>\n      <td>Ada_1_209398-209425-forward</td>\n      <td>263</td>\n      <td>913.0</td>\n      <td>range(256, 271)</td>\n      <td>200</td>\n      <td>228</td>\n      <td>CCGCAGACGCACTTTCCAAGTCTATTTAGACCATATTTCGCGCCGC...</td>\n      <td>256</td>\n      <td>270</td>\n      <td>0.0</td>\n      <td>0.0</td>\n      <td>0.0</td>\n    </tr>\n    <tr>\n      <th>1</th>\n      <td>Ada_1_2145603-2145630-reverse</td>\n      <td>157</td>\n      <td>511.0</td>\n      <td>range(150, 165)</td>\n      <td>200</td>\n      <td>228</td>\n      <td>CCGCAGACGCACTTTCCAAGTCTATTTAGACCATATTTCGCGCCGC...</td>\n      <td>150</td>\n      <td>164</td>\n      <td>0.0</td>\n      <td>0.0</td>\n      <td>0.0</td>\n    </tr>\n    <tr>\n      <th>2</th>\n      <td>Ada_1_2308475-2308502-reverse</td>\n      <td>43</td>\n      <td>687.0</td>\n      <td>range(36, 51)</td>\n      <td>200</td>\n      <td>228</td>\n      <td>CCGCAGACGCACTTTCCAAGTCTATTTAGACCATATTTCGCGCCGC...</td>\n      <td>36</td>\n      <td>50</td>\n      <td>0.0</td>\n      <td>0.0</td>\n      <td>0.0</td>\n    </tr>\n    <tr>\n      <th>3</th>\n      <td>Ada_2_209398-209425-forward</td>\n      <td>24</td>\n      <td>121.0</td>\n      <td>range(17, 32)</td>\n      <td>200</td>\n      <td>228</td>\n      <td>CCGCAGACGCACTTTCCAAGTCTATTTAGACCATATTTCGCGCCGC...</td>\n      <td>17</td>\n      <td>31</td>\n      <td>0.0</td>\n      <td>0.0</td>\n      <td>0.0</td>\n    </tr>\n    <tr>\n      <th>4</th>\n      <td>Ada_2_2145603-2145630-reverse</td>\n      <td>386</td>\n      <td>96.0</td>\n      <td>range(379, 394)</td>\n      <td>200</td>\n      <td>228</td>\n      <td>CCGCAGACGCACTTTCCAAGTCTATTTAGACCATATTTCGCGCCGC...</td>\n      <td>379</td>\n      <td>393</td>\n      <td>0.0</td>\n      <td>0.0</td>\n      <td>0.0</td>\n    </tr>\n    <tr>\n      <th>...</th>\n      <td>...</td>\n      <td>...</td>\n      <td>...</td>\n      <td>...</td>\n      <td>...</td>\n      <td>...</td>\n      <td>...</td>\n      <td>...</td>\n      <td>...</td>\n      <td>...</td>\n      <td>...</td>\n      <td>...</td>\n    </tr>\n    <tr>\n      <th>2227</th>\n      <td>XylR_2_3728622-3728637-forward</td>\n      <td>115</td>\n      <td>821.0</td>\n      <td>range(108, 123)</td>\n      <td>200</td>\n      <td>216</td>\n      <td>CCGCAGACGCACTTTCCAAGTCTATTTAGACCATATTTCGCGCCGC...</td>\n      <td>108</td>\n      <td>122</td>\n      <td>0.0</td>\n      <td>0.0</td>\n      <td>0.0</td>\n    </tr>\n    <tr>\n      <th>2228</th>\n      <td>XylR_3_3728472-3728487-reverse</td>\n      <td>99</td>\n      <td>142.0</td>\n      <td>range(92, 107)</td>\n      <td>200</td>\n      <td>216</td>\n      <td>CCGCAGACGCACTTTCCAAGTCTATTTAGACCATATTTCGCGCCGC...</td>\n      <td>92</td>\n      <td>106</td>\n      <td>0.0</td>\n      <td>0.0</td>\n      <td>0.0</td>\n    </tr>\n    <tr>\n      <th>2229</th>\n      <td>XylR_3_3728622-3728637-forward</td>\n      <td>169</td>\n      <td>142.0</td>\n      <td>range(162, 177)</td>\n      <td>200</td>\n      <td>216</td>\n      <td>CCGCAGACGCACTTTCCAAGTCTATTTAGACCATATTTCGCGCCGC...</td>\n      <td>162</td>\n      <td>176</td>\n      <td>0.0</td>\n      <td>0.0</td>\n      <td>0.0</td>\n    </tr>\n    <tr>\n      <th>2230</th>\n      <td>XylR_5_3728472-3728487-reverse</td>\n      <td>150</td>\n      <td>80.0</td>\n      <td>range(143, 158)</td>\n      <td>200</td>\n      <td>216</td>\n      <td>CCGCAGACGCACTTTCCAAGTCTATTTAGACCATATTTCGCGCCGC...</td>\n      <td>143</td>\n      <td>157</td>\n      <td>0.0</td>\n      <td>0.0</td>\n      <td>0.0</td>\n    </tr>\n    <tr>\n      <th>2231</th>\n      <td>XylR_5_3728622-3728637-forward</td>\n      <td>158</td>\n      <td>80.0</td>\n      <td>range(151, 166)</td>\n      <td>200</td>\n      <td>216</td>\n      <td>CCGCAGACGCACTTTCCAAGTCTATTTAGACCATATTTCGCGCCGC...</td>\n      <td>151</td>\n      <td>165</td>\n      <td>0.0</td>\n      <td>0.0</td>\n      <td>0.0</td>\n    </tr>\n  </tbody>\n</table>\n<p>2232 rows × 12 columns</p>\n</div>"
     },
     "execution_count": 8,
     "metadata": {},
     "output_type": "execute_result"
    }
   ],
   "source": [
    "from Accuracy_scores import nucleotide_metrics\n",
    "\n",
    "predictions_df['nPC'] = pd.DataFrame([0 for _ in range(predictions_df.shape[0])])\n",
    "predictions_df['nSn'] = pd.DataFrame([0 for _ in range(predictions_df.shape[0])])\n",
    "predictions_df['nSp'] = pd.DataFrame([0 for _ in range(predictions_df.shape[0])])\n",
    "\n",
    "for i, row in predictions_df.iterrows():\n",
    "    start_pred = row['Predicted_Start_pos']\n",
    "    stop_pred = row['Predicted_Stop_pos']\n",
    "    start_true = row['Target_Start_pos']\n",
    "    stop_true = row['Target_Stop_pos']\n",
    "    seq_len = len(row['Input_Sequence']) - 1\n",
    "    npc, nsn, nsp = nucleotide_metrics(start_pred, stop_pred, start_true, stop_true, seq_len)\n",
    "    predictions_df.at[i, 'nPC'] = npc\n",
    "    predictions_df.at[i, 'nSn'] = nsn\n",
    "    predictions_df.at[i, 'nSp'] = nsp\n",
    "\n",
    "predictions_df\n"
   ],
   "metadata": {
    "collapsed": false,
    "pycharm": {
     "name": "#%%\n"
    }
   }
  },
  {
   "cell_type": "code",
   "execution_count": 9,
   "outputs": [],
   "source": [
    "predictions_df.to_csv(os.path.join(os.getcwd(), 'CSVs/extraction/positions_with_metrics.csv'), index=False, encoding='utf-8')"
   ],
   "metadata": {
    "collapsed": false,
    "pycharm": {
     "name": "#%%\n"
    }
   }
  }
 ],
 "metadata": {
  "kernelspec": {
   "display_name": "Python 3",
   "language": "python",
   "name": "python3"
  },
  "language_info": {
   "codemirror_mode": {
    "name": "ipython",
    "version": 2
   },
   "file_extension": ".py",
   "mimetype": "text/x-python",
   "name": "python",
   "nbconvert_exporter": "python",
   "pygments_lexer": "ipython2",
   "version": "2.7.6"
  }
 },
 "nbformat": 4,
 "nbformat_minor": 0
}