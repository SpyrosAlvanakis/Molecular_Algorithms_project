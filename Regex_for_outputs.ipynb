{
 "cells": [
  {
   "cell_type": "code",
   "execution_count": 1,
   "metadata": {},
   "outputs": [],
   "source": [
    "import os\n",
    "import re\n",
    "from collections import Counter\n",
    "import pandas as pd"
   ]
  },
  {
   "attachments": {},
   "cell_type": "markdown",
   "metadata": {},
   "source": [
    "# **All Folders Directories**"
   ]
  },
  {
   "cell_type": "code",
   "execution_count": 2,
   "metadata": {},
   "outputs": [
    {
     "data": {
      "text/plain": [
       "['Bioprosector', 'MDScan', 'MotifSampler', 'Streme', 'MEME']"
      ]
     },
     "execution_count": 2,
     "metadata": {},
     "output_type": "execute_result"
    }
   ],
   "source": [
    "direcrory_of_folders = 'Results/'\n",
    "folders = [folder for folder in os.listdir(direcrory_of_folders) if os.path.isdir(os.path.join(direcrory_of_folders, folder))]\n",
    "folders"
   ]
  },
  {
   "attachments": {},
   "cell_type": "markdown",
   "metadata": {},
   "source": [
    "## **For MDScan**"
   ]
  },
  {
   "cell_type": "code",
   "execution_count": 3,
   "metadata": {},
   "outputs": [],
   "source": [
    "# # Read the MDscan output file\n",
    "# with open('Results/MDScan/Ada_1.txt', 'r') as file:\n",
    "#     mdscan_output = file.read()\n",
    "directory_of_files = 'Results/MDScan/'\n",
    "\n",
    "# Extract the motifs using regex\n",
    "motif_pattern = r\"Motif\\s+(\\d+):\\s+Wid\\s+(\\d+);\\s+Score\\s+([\\d.]+);\\s+Sites\\s+(\\d+);\\s+Con\\s+([ACGT]+);\\s+RCon\\s+([ACGT]+)\"\n",
    "# motif_info = re.findall(motif_pattern, mdscan_output)\n",
    "\n",
    "# Extract the site information using regex\n",
    "site_pattern = r\">(\\d+-\\d+-(?:forward|reverse))\\s+Len\\s+\\d+\\s+Site\\s+#(\\d+)\\s+([fr])\\s+(\\d+)\\n([ACGT]+)\"\n",
    "# site_info = re.findall(site_pattern, mdscan_output)"
   ]
  },
  {
   "attachments": {},
   "cell_type": "markdown",
   "metadata": {},
   "source": [
    "The return_the_files function stores all the unique names of the .txt files except the background.txt file."
   ]
  },
  {
   "cell_type": "code",
   "execution_count": 4,
   "metadata": {},
   "outputs": [],
   "source": [
    "def return_the_files(path):\n",
    "    txt_files = [file for file in os.listdir(path) if file.endswith(\".txt\")]\n",
    "    only_results = []\n",
    "    for file in txt_files:\n",
    "        if '_' in file:\n",
    "            name_parts = file.split(\"_\")\n",
    "            if len(name_parts) > 1:\n",
    "                name = name_parts[0]\n",
    "                only_results.append(name)\n",
    "    name_counts = Counter(only_results)\n",
    "    unique_names = [name for name, count in name_counts.items() if count > 1] \n",
    "    return  unique_names "
   ]
  },
  {
   "attachments": {},
   "cell_type": "markdown",
   "metadata": {},
   "source": [
    "The get_the_motifs and get_site_info functions creates a dataframes with vital informations of the motif_info's and the site_info's."
   ]
  },
  {
   "cell_type": "code",
   "execution_count": 11,
   "metadata": {},
   "outputs": [],
   "source": [
    "def get_the_motifs(motif_info, file_name):\n",
    "    motifs = {}\n",
    "\n",
    "    for motif_match in motif_info:\n",
    "        motif = {\n",
    "            'File_name': file_name,\n",
    "            'Motif_ID': motif_match[0],\n",
    "            'Width': motif_match[1],\n",
    "            'Score': motif_match[2],\n",
    "            'Sites': motif_match[3],\n",
    "            'con': motif_match[4],\n",
    "            'rcon': motif_match[5]\n",
    "        }\n",
    "        motif_id = motif_match[0]\n",
    "\n",
    "        if motif_id in motifs:\n",
    "            motifs[motif_id].update(motif)  # Merge with existing motif dictionary\n",
    "        else:\n",
    "            motifs[motif_id] = motif\n",
    "\n",
    "    # Convert the motifs dictionary into a DataFrame\n",
    "    df = pd.DataFrame.from_dict(motifs, orient='index')\n",
    "    return df"
   ]
  },
  {
   "cell_type": "code",
   "execution_count": 12,
   "metadata": {},
   "outputs": [],
   "source": [
    "def get_site_info(site_info, motif_info, file_name):\n",
    "    data = []\n",
    "    motif_id = 0  # Initial motif ID\n",
    "    initial_position = site_info[0][0]  # Initial position\n",
    "\n",
    "    for site in site_info:\n",
    "        site_id, site_number, _, starting_point, motif_sequence = site\n",
    "\n",
    "        if site_number == '1' and site_id == initial_position:\n",
    "            motif_id += 1\n",
    "            # initial_position = site_id\n",
    "\n",
    "        data.append([site_id, site_number, starting_point, motif_sequence, motif_id, file_name])\n",
    "\n",
    "    columns = ['Site_ID', 'Site_number', 'Starting_Point', 'Motif_Sequence', 'Motif_ID', 'File_Name']\n",
    "    df_info = pd.DataFrame(data, columns=columns)\n",
    "    return df_info"
   ]
  },
  {
   "cell_type": "code",
   "execution_count": 13,
   "metadata": {},
   "outputs": [],
   "source": [
    "names = return_the_files(directory_of_files)\n",
    "\n",
    "motif_dfs = []\n",
    "for name in names:\n",
    "    file_paths = [file for file in os.listdir(directory_of_files) if file.startswith(f\"{name}_\")]\n",
    "    for file_path in file_paths:\n",
    "        with open(os.path.join(directory_of_files, file_path), 'r') as file:\n",
    "            mdscan_output = file.read()\n",
    "        motif_info = re.findall(motif_pattern, mdscan_output)\n",
    "        df_motif = get_the_motifs(motif_info, name)\n",
    "        motif_dfs.append(df_motif)\n",
    "\n",
    "motif_df = pd.concat(motif_dfs, ignore_index=True)\n",
    "\n",
    "# Concatenate site info dataframes\n",
    "site_dfs = []\n",
    "for name in names:\n",
    "    file_paths = [file for file in os.listdir(directory_of_files) if file.startswith(f\"{name}_\")]\n",
    "    for file_path in file_paths:\n",
    "        with open(os.path.join(directory_of_files, file_path), 'r') as file:\n",
    "            mdscan_output = file.read()\n",
    "        site_info = re.findall(site_pattern, mdscan_output)\n",
    "        df_site = get_site_info(site_info, motif_info, name)\n",
    "        site_dfs.append(df_site)\n",
    "\n",
    "site_df = pd.concat(site_dfs, ignore_index=True)"
   ]
  },
  {
   "cell_type": "code",
   "execution_count": 14,
   "metadata": {},
   "outputs": [
    {
     "data": {
      "text/html": [
       "<div>\n",
       "<style scoped>\n",
       "    .dataframe tbody tr th:only-of-type {\n",
       "        vertical-align: middle;\n",
       "    }\n",
       "\n",
       "    .dataframe tbody tr th {\n",
       "        vertical-align: top;\n",
       "    }\n",
       "\n",
       "    .dataframe thead th {\n",
       "        text-align: right;\n",
       "    }\n",
       "</style>\n",
       "<table border=\"1\" class=\"dataframe\">\n",
       "  <thead>\n",
       "    <tr style=\"text-align: right;\">\n",
       "      <th></th>\n",
       "      <th>Site_ID</th>\n",
       "      <th>Site_number</th>\n",
       "      <th>Starting_Point</th>\n",
       "      <th>Motif_Sequence</th>\n",
       "      <th>Motif_ID</th>\n",
       "      <th>File_Name</th>\n",
       "    </tr>\n",
       "  </thead>\n",
       "  <tbody>\n",
       "    <tr>\n",
       "      <th>0</th>\n",
       "      <td>209398-209425-forward</td>\n",
       "      <td>1</td>\n",
       "      <td>151</td>\n",
       "      <td>AAGCGCCGCTGGCGG</td>\n",
       "      <td>1</td>\n",
       "      <td>Ada</td>\n",
       "    </tr>\n",
       "    <tr>\n",
       "      <th>1</th>\n",
       "      <td>209398-209425-forward</td>\n",
       "      <td>2</td>\n",
       "      <td>258</td>\n",
       "      <td>CGCCATCGCTTCCGG</td>\n",
       "      <td>1</td>\n",
       "      <td>Ada</td>\n",
       "    </tr>\n",
       "    <tr>\n",
       "      <th>2</th>\n",
       "      <td>209398-209425-forward</td>\n",
       "      <td>3</td>\n",
       "      <td>166</td>\n",
       "      <td>CTGAAGCGATGGGTA</td>\n",
       "      <td>1</td>\n",
       "      <td>Ada</td>\n",
       "    </tr>\n",
       "    <tr>\n",
       "      <th>3</th>\n",
       "      <td>209398-209425-forward</td>\n",
       "      <td>4</td>\n",
       "      <td>229</td>\n",
       "      <td>CGGAACCACTGGGTG</td>\n",
       "      <td>1</td>\n",
       "      <td>Ada</td>\n",
       "    </tr>\n",
       "    <tr>\n",
       "      <th>4</th>\n",
       "      <td>209398-209425-forward</td>\n",
       "      <td>5</td>\n",
       "      <td>259</td>\n",
       "      <td>CGGAAGCGATGGCGG</td>\n",
       "      <td>1</td>\n",
       "      <td>Ada</td>\n",
       "    </tr>\n",
       "  </tbody>\n",
       "</table>\n",
       "</div>"
      ],
      "text/plain": [
       "                 Site_ID  Site_number  Starting_Point   Motif_Sequence  \\\n",
       "0  209398-209425-forward            1             151  AAGCGCCGCTGGCGG   \n",
       "1  209398-209425-forward            2             258  CGCCATCGCTTCCGG   \n",
       "2  209398-209425-forward            3             166  CTGAAGCGATGGGTA   \n",
       "3  209398-209425-forward            4             229  CGGAACCACTGGGTG   \n",
       "4  209398-209425-forward            5             259  CGGAAGCGATGGCGG   \n",
       "\n",
       "   Motif_ID File_Name  \n",
       "0         1       Ada  \n",
       "1         1       Ada  \n",
       "2         1       Ada  \n",
       "3         1       Ada  \n",
       "4         1       Ada  "
      ]
     },
     "execution_count": 14,
     "metadata": {},
     "output_type": "execute_result"
    }
   ],
   "source": [
    "site_df['Site_number'] = pd.to_numeric(site_df['Site_number'])\n",
    "site_df['Motif_ID'] = pd.to_numeric(site_df['Motif_ID'])\n",
    "site_df['Starting_Point'] = pd.to_numeric(site_df['Starting_Point'])\n",
    "site_df.head()"
   ]
  },
  {
   "cell_type": "code",
   "execution_count": 17,
   "metadata": {},
   "outputs": [
    {
     "data": {
      "text/html": [
       "<div>\n",
       "<style scoped>\n",
       "    .dataframe tbody tr th:only-of-type {\n",
       "        vertical-align: middle;\n",
       "    }\n",
       "\n",
       "    .dataframe tbody tr th {\n",
       "        vertical-align: top;\n",
       "    }\n",
       "\n",
       "    .dataframe thead th {\n",
       "        text-align: right;\n",
       "    }\n",
       "</style>\n",
       "<table border=\"1\" class=\"dataframe\">\n",
       "  <thead>\n",
       "    <tr style=\"text-align: right;\">\n",
       "      <th></th>\n",
       "      <th>File_name</th>\n",
       "      <th>Motif_ID</th>\n",
       "      <th>Width</th>\n",
       "      <th>Score</th>\n",
       "      <th>Sites</th>\n",
       "      <th>con</th>\n",
       "      <th>rcon</th>\n",
       "    </tr>\n",
       "  </thead>\n",
       "  <tbody>\n",
       "    <tr>\n",
       "      <th>0</th>\n",
       "      <td>Ada</td>\n",
       "      <td>1</td>\n",
       "      <td>15</td>\n",
       "      <td>1.795</td>\n",
       "      <td>14</td>\n",
       "      <td>CGGAACCGCTGGCGG</td>\n",
       "      <td>CCGCCAGCGGTTCCG</td>\n",
       "    </tr>\n",
       "    <tr>\n",
       "      <th>1</th>\n",
       "      <td>Ada</td>\n",
       "      <td>2</td>\n",
       "      <td>15</td>\n",
       "      <td>1.777</td>\n",
       "      <td>16</td>\n",
       "      <td>CCGGAAACGATGGCG</td>\n",
       "      <td>CGCCATCGTTTCCGG</td>\n",
       "    </tr>\n",
       "    <tr>\n",
       "      <th>2</th>\n",
       "      <td>Ada</td>\n",
       "      <td>3</td>\n",
       "      <td>15</td>\n",
       "      <td>1.764</td>\n",
       "      <td>16</td>\n",
       "      <td>GGAAGCGCTGGCGGC</td>\n",
       "      <td>GCCGCCAGCGCTTCC</td>\n",
       "    </tr>\n",
       "    <tr>\n",
       "      <th>3</th>\n",
       "      <td>Ada</td>\n",
       "      <td>4</td>\n",
       "      <td>15</td>\n",
       "      <td>1.754</td>\n",
       "      <td>19</td>\n",
       "      <td>CGCCGCTGGCGGCTG</td>\n",
       "      <td>CAGCCGCCAGCGGCG</td>\n",
       "    </tr>\n",
       "    <tr>\n",
       "      <th>4</th>\n",
       "      <td>Ada</td>\n",
       "      <td>5</td>\n",
       "      <td>15</td>\n",
       "      <td>1.749</td>\n",
       "      <td>15</td>\n",
       "      <td>TATCCGTGACGGTGA</td>\n",
       "      <td>TCACCGTCACGGATA</td>\n",
       "    </tr>\n",
       "  </tbody>\n",
       "</table>\n",
       "</div>"
      ],
      "text/plain": [
       "  File_name  Motif_ID  Width  Score  Sites              con             rcon\n",
       "0       Ada         1     15  1.795     14  CGGAACCGCTGGCGG  CCGCCAGCGGTTCCG\n",
       "1       Ada         2     15  1.777     16  CCGGAAACGATGGCG  CGCCATCGTTTCCGG\n",
       "2       Ada         3     15  1.764     16  GGAAGCGCTGGCGGC  GCCGCCAGCGCTTCC\n",
       "3       Ada         4     15  1.754     19  CGCCGCTGGCGGCTG  CAGCCGCCAGCGGCG\n",
       "4       Ada         5     15  1.749     15  TATCCGTGACGGTGA  TCACCGTCACGGATA"
      ]
     },
     "execution_count": 17,
     "metadata": {},
     "output_type": "execute_result"
    }
   ],
   "source": [
    "motif_df['Motif_ID'] = pd.to_numeric(motif_df['Motif_ID'])\n",
    "motif_df['Sites'] = pd.to_numeric(motif_df['Sites'])\n",
    "motif_df['Score'] = pd.to_numeric(motif_df['Score'])\n",
    "motif_df['Width'] = pd.to_numeric(motif_df['Width'])\n",
    "\n",
    "motif_df.head()"
   ]
  },
  {
   "attachments": {},
   "cell_type": "markdown",
   "metadata": {
    "pycharm": {
     "name": "#%% md\n"
    }
   },
   "source": [
    "# Regex for MEME"
   ]
  },
  {
   "cell_type": "code",
   "execution_count": null,
   "metadata": {
    "collapsed": false,
    "pycharm": {
     "name": "#%%\n"
    }
   },
   "outputs": [],
   "source": [
    "with open('Results/MEME/Ada_meme0.txt', 'r') as file:\n",
    "    meme_output = file.read()\n",
    "\n",
    "\n",
    "meme_motif_pattern = r'MOTIF\\s+(?P<motif>\\w+)\\s+MEME-(?P<index>\\d)\\s+width\\s+=\\s+(?P<width>\\d+)\\s+sites\\s+=\\s+(?P<sites>\\d+).+E-value\\s*=\\s*(?P<evalue>\\d+(?:\\.\\d+)?(?:e[+-]?\\d+)?)'\n",
    "meme_motif_info = re.finditer(meme_motif_pattern, meme_output)\n",
    "\n",
    "sites_pattern = r'MEME-(\\d+) sites sorted by position p-value\\n(?:.*\\n){3}((?:(?!-+).*\\n)*)'\n",
    "meme_sites = re.findall(sites_pattern, meme_output)"
   ]
  },
  {
   "cell_type": "code",
   "execution_count": null,
   "metadata": {
    "collapsed": false,
    "pycharm": {
     "name": "#%%\n"
    }
   },
   "outputs": [
    {
     "name": "stdout",
     "output_type": "stream",
     "text": [
      "{'motif': 'TCTSGCSG', 'index': 1, 'width': 8, 'sites': 15, 'evalue': 1.3}\n",
      "{'motif': 'TGAAARMG', 'index': 2, 'width': 8, 'sites': 11, 'evalue': 920.0}\n",
      "{'motif': 'AGMTTTAAAA', 'index': 3, 'width': 10, 'sites': 2, 'evalue': 10000.0}\n",
      "{'motif': 'TACGGTTA', 'index': 4, 'width': 8, 'sites': 2, 'evalue': 18000.0}\n",
      "{'motif': 'GTGAHGGTG', 'index': 5, 'width': 9, 'sites': 3, 'evalue': 13000.0}\n"
     ]
    },
    {
     "data": {
      "text/plain": [
       "{'Ada_meme0': {'motif0': {'motif': 'TCTSGCSG',\n",
       "   'index': 1,\n",
       "   'width': 8,\n",
       "   'sites': 15,\n",
       "   'evalue': 1.3},\n",
       "  'motif1': {'motif': 'TGAAARMG',\n",
       "   'index': 2,\n",
       "   'width': 8,\n",
       "   'sites': 11,\n",
       "   'evalue': 920.0},\n",
       "  'motif2': {'motif': 'AGMTTTAAAA',\n",
       "   'index': 3,\n",
       "   'width': 10,\n",
       "   'sites': 2,\n",
       "   'evalue': 10000.0},\n",
       "  'motif3': {'motif': 'TACGGTTA',\n",
       "   'index': 4,\n",
       "   'width': 8,\n",
       "   'sites': 2,\n",
       "   'evalue': 18000.0},\n",
       "  'motif4': {'motif': 'GTGAHGGTG',\n",
       "   'index': 5,\n",
       "   'width': 9,\n",
       "   'sites': 3,\n",
       "   'evalue': 13000.0}}}"
      ]
     },
     "execution_count": 117,
     "metadata": {},
     "output_type": "execute_result"
    }
   ],
   "source": [
    "meme_dict = {'Ada_meme0': {}}\n",
    "for i, match in enumerate(meme_motif_info):\n",
    "    temp_dict = {'motif': match.group('motif'),\n",
    "                                 'index': int(match.group('index')),\n",
    "                                 'width': int(match.group('width')),\n",
    "                                 'sites': int(match.group('sites')),\n",
    "                                 'evalue': float(match.group('evalue'))\n",
    "                                 }\n",
    "\n",
    "    motif = match.group('motif')\n",
    "    print(temp_dict)\n",
    "    meme_dict['Ada_meme0']['motif'+str(i)] = temp_dict\n",
    "meme_dict"
   ]
  },
  {
   "cell_type": "code",
   "execution_count": null,
   "metadata": {
    "collapsed": false,
    "pycharm": {
     "name": "#%%\n"
    }
   },
   "outputs": [
    {
     "name": "stdout",
     "output_type": "stream",
     "text": [
      "1\n",
      "[('209398-209425-forward', '302'), ('2145603-2145630-reverse', '322'), ('209398-209425-forward', '106'), ('2145603-2145630-reverse', '382'), ('209398-209425-forward', '36'), ('2308475-2308502-reverse', '398'), ('2308475-2308502-reverse', '361'), ('2308475-2308502-reverse', '111'), ('209398-209425-forward', '293'), ('209398-209425-forward', '158'), ('2308475-2308502-reverse', '386'), ('2308475-2308502-reverse', '97'), ('2308475-2308502-reverse', '71'), ('209398-209425-forward', '311'), ('2145603-2145630-reverse', '398')]\n",
      "2\n",
      "[('2145603-2145630-reverse', '243'), ('209398-209425-forward', '280'), ('209398-209425-forward', '397'), ('209398-209425-forward', '196'), ('2145603-2145630-reverse', '207'), ('2308475-2308502-reverse', '279'), ('209398-209425-forward', '135'), ('2308475-2308502-reverse', '201'), ('2145603-2145630-reverse', '348'), ('2145603-2145630-reverse', '253'), ('2308475-2308502-reverse', '86')]\n",
      "3\n",
      "[('209398-209425-forward', '332'), ('2308475-2308502-reverse', '145')]\n",
      "4\n",
      "[('209398-209425-forward', '369'), ('209398-209425-forward', '14')]\n",
      "5\n",
      "[('2308475-2308502-reverse', '228'), ('209398-209425-forward', '25'), ('2308475-2308502-reverse', '10')]\n"
     ]
    }
   ],
   "source": [
    "meme_site_pattern = r'(\\d+-\\d+-(?:forward|reverse))\\s*(\\d+)'\n",
    "for i, site in enumerate(meme_sites):\n",
    "    print(site[0])\n",
    "    sites_per_motif = re.findall(meme_site_pattern, site[1])\n",
    "    print(sites_per_motif)\n",
    "    temp_dict = {}\n",
    "    # for j, s in enumerate(sites_per_motif):\n",
    "    #     print(j)\n",
    "    #     print(s)\n",
    "    #     temp_dict[j] = {'seq_id': s[0], 'position': s[1]}\n",
    "        # print(temp_dict)"
   ]
  },
  {
   "cell_type": "code",
   "execution_count": null,
   "metadata": {},
   "outputs": [],
   "source": []
  }
 ],
 "metadata": {
  "kernelspec": {
   "display_name": "base",
   "language": "python",
   "name": "python3"
  },
  "language_info": {
   "codemirror_mode": {
    "name": "ipython",
    "version": 3
   },
   "file_extension": ".py",
   "mimetype": "text/x-python",
   "name": "python",
   "nbconvert_exporter": "python",
   "pygments_lexer": "ipython3",
   "version": "3.9.13"
  },
  "orig_nbformat": 4
 },
 "nbformat": 4,
 "nbformat_minor": 2
}
