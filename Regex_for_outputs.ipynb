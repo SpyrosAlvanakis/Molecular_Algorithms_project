{
 "cells": [
  {
   "cell_type": "code",
   "execution_count": 1,
   "metadata": {},
   "outputs": [],
   "source": [
    "import os\n",
    "import re\n",
    "from collections import Counter\n",
    "import pandas as pd"
   ]
  },
  {
   "cell_type": "code",
   "execution_count": 66,
   "metadata": {},
   "outputs": [],
   "source": [
    "# Read the MDscan output file\n",
    "with open('Results/MDScan/Ada_1.txt', 'r') as file:\n",
    "    mdscan_output = file.read()\n",
    "\n",
    "# Use regex patterns to extract the motif information\n",
    "motif_pattern = r\"Motif (\\d+):\\s+Wid (\\d+);\\s+Score ([\\d.]+);\\s+Sites (\\d+);\\s+Con (\\w+);\\s+RCon (\\w+)\"\n",
    "motif_info = re.findall(motif_pattern, mdscan_output)\n",
    "\n",
    "# # Use regex patterns to extract the motif alignment matrix\n",
    "# alignment_pattern = r\"\\d+\\s+(\\d+\\.\\d+)\\s+(\\d+\\.\\d+)\\s+(\\d+\\.\\d+)\\s+(\\d+\\.\\d+)\\s+(\\w+)\\s+(\\w+)\\s+(\\w+)\\s+(\\w+)\"\n",
    "# alignment_matrix = re.findall(alignment_pattern, mdscan_output)\n",
    "\n",
    "# Use regex patterns to extract the site information\n",
    "site_pattern = r\">(\\d+-\\d+-(?:forward))\\s+Len\\s+\\d+\\s+Site\\s+#(\\d+)\\s+(f|r)\\s+(\\d+)\\n([ACGT]+)\"\n",
    "site_info = re.findall(site_pattern, mdscan_output)"
   ]
  },
  {
   "attachments": {},
   "cell_type": "markdown",
   "metadata": {},
   "source": [
    "Store the Folders of the results"
   ]
  },
  {
   "cell_type": "code",
   "execution_count": 67,
   "metadata": {},
   "outputs": [
    {
     "data": {
      "text/plain": [
       "['Bioprosector', 'MDScan', 'MotifSampler', 'Streme', 'MEME']"
      ]
     },
     "execution_count": 67,
     "metadata": {},
     "output_type": "execute_result"
    }
   ],
   "source": [
    "direcrory_of_folders = 'Results/'\n",
    "folders = [folder for folder in os.listdir(direcrory_of_folders) if os.path.isdir(os.path.join(direcrory_of_folders, folder))]\n",
    "folders"
   ]
  },
  {
   "cell_type": "code",
   "execution_count": 68,
   "metadata": {
    "collapsed": false,
    "pycharm": {
     "name": "#%%\n"
    }
   },
   "outputs": [
    {
     "data": {
      "text/plain": [
       "[('1', '15', '1.795', '14', 'CGGAACCGCTGGCGG', 'CCGCCAGCGGTTCCG'),\n",
       " ('2', '15', '1.777', '16', 'CCGGAAACGATGGCG', 'CGCCATCGTTTCCGG'),\n",
       " ('3', '15', '1.764', '16', 'GGAAGCGCTGGCGGC', 'GCCGCCAGCGCTTCC'),\n",
       " ('4', '15', '1.754', '19', 'CGCCGCTGGCGGCTG', 'CAGCCGCCAGCGGCG'),\n",
       " ('5', '15', '1.749', '15', 'TATCCGTGACGGTGA', 'TCACCGTCACGGATA')]"
      ]
     },
     "execution_count": 68,
     "metadata": {},
     "output_type": "execute_result"
    }
   ],
   "source": [
    "motif_info"
   ]
  },
  {
   "cell_type": "code",
   "execution_count": 69,
   "metadata": {
    "collapsed": false,
    "pycharm": {
     "name": "#%%\n"
    }
   },
   "outputs": [
    {
     "data": {
      "text/plain": [
       "[('209398-209425-forward', '1', 'f', '151', 'AAGCGCCGCTGGCGG'),\n",
       " ('209398-209425-forward', '2', 'r', '258', 'CGCCATCGCTTCCGG'),\n",
       " ('209398-209425-forward', '3', 'f', '166', 'CTGAAGCGATGGGTA'),\n",
       " ('209398-209425-forward', '4', 'f', '229', 'CGGAACCACTGGGTG'),\n",
       " ('209398-209425-forward', '5', 'f', '259', 'CGGAAGCGATGGCGG'),\n",
       " ('209398-209425-forward', '6', 'f', '286', 'CGCAACTGCTGGCGG'),\n",
       " ('209398-209425-forward', '1', 'r', '286', 'CCGCCAGCAGTTGCG'),\n",
       " ('209398-209425-forward', '2', 'r', '271', 'CTTTCAACGATGCCG'),\n",
       " ('209398-209425-forward', '3', 'r', '259', 'CCGCCATCGCTTCCG'),\n",
       " ('209398-209425-forward', '4', 'f', '165', 'GCTGAAGCGATGGGT'),\n",
       " ('209398-209425-forward', '5', 'f', '228', 'CCGGAACCACTGGGT'),\n",
       " ('209398-209425-forward', '6', 'f', '258', 'CCGGAAGCGATGGCG'),\n",
       " ('209398-209425-forward', '7', 'f', '285', 'GCGCAACTGCTGGCG'),\n",
       " ('209398-209425-forward', '1', 'f', '41', 'CGGTGCGCTGGCGAT'),\n",
       " ('209398-209425-forward', '2', 'r', '269', 'TTCAACGATGCCGCC'),\n",
       " ('209398-209425-forward', '3', 'f', '149', 'CAAAGCGCCGCTGGC'),\n",
       " ('209398-209425-forward', '4', 'f', '152', 'AGCGCCGCTGGCGGC'),\n",
       " ('209398-209425-forward', '5', 'f', '167', 'TGAAGCGATGGGTAT'),\n",
       " ('209398-209425-forward', '6', 'f', '260', 'GGAAGCGATGGCGGC'),\n",
       " ('209398-209425-forward', '7', 'f', '287', 'GCAACTGCTGGCGGA'),\n",
       " ('209398-209425-forward', '1', 'f', '43', 'GTGCGCTGGCGATTG'),\n",
       " ('209398-209425-forward', '2', 'r', '288', 'ATCCGCCAGCAGTTG'),\n",
       " ('209398-209425-forward', '3', 'f', '154', 'CGCCGCTGGCGGCTG'),\n",
       " ('209398-209425-forward', '4', 'f', '157', 'CGCTGGCGGCTGAAG'),\n",
       " ('209398-209425-forward', '5', 'f', '262', 'AAGCGATGGCGGCAT'),\n",
       " ('209398-209425-forward', '6', 'r', '153', 'AGCCGCCAGCGGCGC'),\n",
       " ('209398-209425-forward', '7', 'r', '150', 'CGCCAGCGGCGCTTT'),\n",
       " ('209398-209425-forward', '8', 'f', '289', 'AACTGCTGGCGGATC'),\n",
       " ('209398-209425-forward', '1', 'f', '14', 'TACGGTTATCGGTGA'),\n",
       " ('209398-209425-forward', '2', 'f', '20', 'TATCGGTGAAGGTGG'),\n",
       " ('209398-209425-forward', '3', 'r', '368', 'TACGCGTAACCGTAG'),\n",
       " ('209398-209425-forward', '4', 'r', '248', 'TCCGGGTTACGGTGA'),\n",
       " ('209398-209425-forward', '5', 'r', '220', 'GTTCCGGGATGATGG'),\n",
       " ('209398-209425-forward', '6', 'f', '248', 'TCACCGTAACCCGGA'),\n",
       " ('209398-209425-forward', '7', 'f', '362', 'GATGAGCTACGGTTA')]"
      ]
     },
     "execution_count": 69,
     "metadata": {},
     "output_type": "execute_result"
    }
   ],
   "source": [
    "site_info"
   ]
  },
  {
   "attachments": {},
   "cell_type": "markdown",
   "metadata": {},
   "source": [
    "Store the names of the outputted files"
   ]
  },
  {
   "cell_type": "code",
   "execution_count": 9,
   "metadata": {},
   "outputs": [],
   "source": [
    "file_path = 'Results/MDScan/'\n",
    "def return_the_files(path):\n",
    "    txt_files = [file for file in os.listdir(path) if file.endswith(\".txt\")]\n",
    "    only_results = []\n",
    "    for file in txt_files:\n",
    "        if '_' in file:\n",
    "            name_parts = file.split(\"_\")\n",
    "            if len(name_parts) > 1:\n",
    "                name = name_parts[0]\n",
    "                only_results.append(name)\n",
    "    name_counts = Counter(only_results)\n",
    "    unique_names = [name for name, count in name_counts.items() if count > 1] \n",
    "    return  unique_names \n",
    " \n",
    "names = return_the_files(file_path)\n"
   ]
  },
  {
   "cell_type": "code",
   "execution_count": 55,
   "metadata": {},
   "outputs": [],
   "source": [
    "def get_the_motifs(motif_info, file_name):\n",
    "    motif_dict = {}\n",
    "    current_motif = None\n",
    "\n",
    "    motifs = {}  # Use a dictionary instead of a list\n",
    "\n",
    "    for motif_match in motif_info:\n",
    "        motif = {\n",
    "        'file_name': file_name,\n",
    "        'motif_id': motif_match[0],\n",
    "        'width': motif_match[1],\n",
    "        'score': motif_match[2],\n",
    "        'sites': motif_match[3],\n",
    "        'con': motif_match[4],\n",
    "        'rcon': motif_match[5]\n",
    "        }\n",
    "        motif_id = motif_match[0]\n",
    "\n",
    "        if motif_id in motifs:\n",
    "            motifs[motif_id].update(motif)  # Merge with existing motif dictionary\n",
    "        else:\n",
    "            motifs[motif_id] = motif \n",
    "            \n",
    "\n",
    "    return motifs, len(motifs)"
   ]
  },
  {
   "cell_type": "code",
   "execution_count": 74,
   "metadata": {},
   "outputs": [
    {
     "data": {
      "text/plain": [
       "{'1': {'file_name': 'Ada',\n",
       "  'motif_id': '1',\n",
       "  'width': '15',\n",
       "  'score': '1.795',\n",
       "  'sites': '14',\n",
       "  'con': 'CGGAACCGCTGGCGG',\n",
       "  'rcon': 'CCGCCAGCGGTTCCG'},\n",
       " '2': {'file_name': 'Ada',\n",
       "  'motif_id': '2',\n",
       "  'width': '15',\n",
       "  'score': '1.777',\n",
       "  'sites': '16',\n",
       "  'con': 'CCGGAAACGATGGCG',\n",
       "  'rcon': 'CGCCATCGTTTCCGG'},\n",
       " '3': {'file_name': 'Ada',\n",
       "  'motif_id': '3',\n",
       "  'width': '15',\n",
       "  'score': '1.764',\n",
       "  'sites': '16',\n",
       "  'con': 'GGAAGCGCTGGCGGC',\n",
       "  'rcon': 'GCCGCCAGCGCTTCC'},\n",
       " '4': {'file_name': 'Ada',\n",
       "  'motif_id': '4',\n",
       "  'width': '15',\n",
       "  'score': '1.754',\n",
       "  'sites': '19',\n",
       "  'con': 'CGCCGCTGGCGGCTG',\n",
       "  'rcon': 'CAGCCGCCAGCGGCG'},\n",
       " '5': {'file_name': 'Ada',\n",
       "  'motif_id': '5',\n",
       "  'width': '15',\n",
       "  'score': '1.749',\n",
       "  'sites': '15',\n",
       "  'con': 'TATCCGTGACGGTGA',\n",
       "  'rcon': 'TCACCGTCACGGATA'}}"
      ]
     },
     "execution_count": 74,
     "metadata": {},
     "output_type": "execute_result"
    }
   ],
   "source": [
    "motif_dict, num_of_motifs = get_the_motifs(motif_info,'Ada')\n",
    "motif_dict"
   ]
  },
  {
   "cell_type": "code",
   "execution_count": null,
   "metadata": {},
   "outputs": [],
   "source": []
  },
  {
   "attachments": {},
   "cell_type": "markdown",
   "metadata": {
    "pycharm": {
     "name": "#%% md\n"
    }
   },
   "source": [
    "# Regex for MEME"
   ]
  },
  {
   "cell_type": "code",
   "execution_count": 54,
   "metadata": {
    "collapsed": false,
    "pycharm": {
     "name": "#%%\n"
    }
   },
   "outputs": [],
   "source": [
    "with open('Results/MEME/Ada_meme0.txt', 'r') as file:\n",
    "    meme_output = file.read()\n",
    "\n",
    "\n",
    "meme_motif_pattern = r'MOTIF\\s+(?P<motif>\\w+)\\s+MEME-(?P<index>\\d)\\s+width\\s+=\\s+(?P<width>\\d+)\\s+sites\\s+=\\s+(?P<sites>\\d+).+E-value\\s*=\\s*(?P<evalue>\\d+(?:\\.\\d+)?(?:e[+-]?\\d+)?)'\n",
    "meme_motif_info = re.finditer(meme_motif_pattern, meme_output)\n",
    "\n",
    "sites_pattern = r'MEME-(\\d+) sites sorted by position p-value\\n(?:.*\\n){3}((?:(?!-+).*\\n)*)'\n",
    "meme_sites = re.findall(sites_pattern, meme_output)"
   ]
  },
  {
   "cell_type": "code",
   "execution_count": 15,
   "metadata": {
    "collapsed": false,
    "pycharm": {
     "name": "#%%\n"
    }
   },
   "outputs": [
    {
     "name": "stdout",
     "output_type": "stream",
     "text": [
      "{'motif': 'TCTSGCSG', 'index': 1, 'width': 8, 'sites': 15, 'evalue': 1.3}\n",
      "{'motif': 'TGAAARMG', 'index': 2, 'width': 8, 'sites': 11, 'evalue': 920.0}\n",
      "{'motif': 'AGMTTTAAAA', 'index': 3, 'width': 10, 'sites': 2, 'evalue': 10000.0}\n",
      "{'motif': 'TACGGTTA', 'index': 4, 'width': 8, 'sites': 2, 'evalue': 18000.0}\n",
      "{'motif': 'GTGAHGGTG', 'index': 5, 'width': 9, 'sites': 3, 'evalue': 13000.0}\n"
     ]
    },
    {
     "data": {
      "text/plain": [
       "{'Ada_meme0': {'motif0': {'motif': 'TCTSGCSG',\n",
       "   'index': 1,\n",
       "   'width': 8,\n",
       "   'sites': 15,\n",
       "   'evalue': 1.3},\n",
       "  'motif1': {'motif': 'TGAAARMG',\n",
       "   'index': 2,\n",
       "   'width': 8,\n",
       "   'sites': 11,\n",
       "   'evalue': 920.0},\n",
       "  'motif2': {'motif': 'AGMTTTAAAA',\n",
       "   'index': 3,\n",
       "   'width': 10,\n",
       "   'sites': 2,\n",
       "   'evalue': 10000.0},\n",
       "  'motif3': {'motif': 'TACGGTTA',\n",
       "   'index': 4,\n",
       "   'width': 8,\n",
       "   'sites': 2,\n",
       "   'evalue': 18000.0},\n",
       "  'motif4': {'motif': 'GTGAHGGTG',\n",
       "   'index': 5,\n",
       "   'width': 9,\n",
       "   'sites': 3,\n",
       "   'evalue': 13000.0}}}"
      ]
     },
     "execution_count": 15,
     "metadata": {},
     "output_type": "execute_result"
    }
   ],
   "source": [
    "meme_dict = {'Ada_meme0': {}}\n",
    "for i, match in enumerate(meme_motif_info):\n",
    "    temp_dict = {'motif': match.group('motif'),\n",
    "                                 'index': int(match.group('index')),\n",
    "                                 'width': int(match.group('width')),\n",
    "                                 'sites': int(match.group('sites')),\n",
    "                                 'evalue': float(match.group('evalue'))\n",
    "                                 }\n",
    "\n",
    "    motif = match.group('motif')\n",
    "    print(temp_dict)\n",
    "    meme_dict['Ada_meme0']['motif'+str(i)] = temp_dict\n",
    "meme_dict"
   ]
  },
  {
   "cell_type": "code",
   "execution_count": 16,
   "metadata": {
    "collapsed": false,
    "pycharm": {
     "name": "#%%\n"
    }
   },
   "outputs": [
    {
     "name": "stdout",
     "output_type": "stream",
     "text": [
      "1\n",
      "[('209398-209425-forward', '302'), ('2145603-2145630-reverse', '322'), ('209398-209425-forward', '106'), ('2145603-2145630-reverse', '382'), ('209398-209425-forward', '36'), ('2308475-2308502-reverse', '398'), ('2308475-2308502-reverse', '361'), ('2308475-2308502-reverse', '111'), ('209398-209425-forward', '293'), ('209398-209425-forward', '158'), ('2308475-2308502-reverse', '386'), ('2308475-2308502-reverse', '97'), ('2308475-2308502-reverse', '71'), ('209398-209425-forward', '311'), ('2145603-2145630-reverse', '398')]\n",
      "2\n",
      "[('2145603-2145630-reverse', '243'), ('209398-209425-forward', '280'), ('209398-209425-forward', '397'), ('209398-209425-forward', '196'), ('2145603-2145630-reverse', '207'), ('2308475-2308502-reverse', '279'), ('209398-209425-forward', '135'), ('2308475-2308502-reverse', '201'), ('2145603-2145630-reverse', '348'), ('2145603-2145630-reverse', '253'), ('2308475-2308502-reverse', '86')]\n",
      "3\n",
      "[('209398-209425-forward', '332'), ('2308475-2308502-reverse', '145')]\n",
      "4\n",
      "[('209398-209425-forward', '369'), ('209398-209425-forward', '14')]\n",
      "5\n",
      "[('2308475-2308502-reverse', '228'), ('209398-209425-forward', '25'), ('2308475-2308502-reverse', '10')]\n"
     ]
    }
   ],
   "source": [
    "meme_site_pattern = r'(\\d+-\\d+-(?:forward|reverse))\\s*(\\d+)'\n",
    "for i, site in enumerate(meme_sites):\n",
    "    print(site[0])\n",
    "    sites_per_motif = re.findall(meme_site_pattern, site[1])\n",
    "    print(sites_per_motif)\n",
    "    temp_dict = {}\n",
    "    # for j, s in enumerate(sites_per_motif):\n",
    "    #     print(j)\n",
    "    #     print(s)\n",
    "    #     temp_dict[j] = {'seq_id': s[0], 'position': s[1]}\n",
    "        # print(temp_dict)"
   ]
  },
  {
   "cell_type": "code",
   "execution_count": null,
   "metadata": {},
   "outputs": [],
   "source": []
  }
 ],
 "metadata": {
  "kernelspec": {
   "display_name": "base",
   "language": "python",
   "name": "python3"
  },
  "language_info": {
   "codemirror_mode": {
    "name": "ipython",
    "version": 3
   },
   "file_extension": ".py",
   "mimetype": "text/x-python",
   "name": "python",
   "nbconvert_exporter": "python",
   "pygments_lexer": "ipython3",
   "version": "3.9.13"
  },
  "orig_nbformat": 4
 },
 "nbformat": 4,
 "nbformat_minor": 2
}
