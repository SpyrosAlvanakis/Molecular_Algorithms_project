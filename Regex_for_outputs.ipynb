{
 "cells": [
  {
   "cell_type": "code",
   "execution_count": 1,
   "metadata": {},
   "outputs": [],
   "source": [
    "import os\n",
    "import re\n",
    "from collections import Counter\n",
    "import pandas as pd"
   ]
  },
  {
   "cell_type": "code",
   "execution_count": 2,
   "metadata": {},
   "outputs": [],
   "source": [
    "# Read the MDscan output file\n",
    "with open('Results/results_md/Ada_1.txt', 'r') as file:\n",
    "    mdscan_output = file.read()\n",
    "\n",
    "# Use regex patterns to extract the motif information\n",
    "motif_pattern = r\"Motif (\\d+):\\s+Wid (\\d+);\\s+Score ([\\d.]+);\\s+Sites (\\d+);\\s+Con (\\w+);\\s+RCon (\\w+)\"\n",
    "motif_info = re.findall(motif_pattern, mdscan_output)\n",
    "\n",
    "# # Use regex patterns to extract the motif alignment matrix\n",
    "# alignment_pattern = r\"\\d+\\s+(\\d+\\.\\d+)\\s+(\\d+\\.\\d+)\\s+(\\d+\\.\\d+)\\s+(\\d+\\.\\d+)\\s+(\\w+)\\s+(\\w+)\\s+(\\w+)\\s+(\\w+)\"\n",
    "# alignment_matrix = re.findall(alignment_pattern, mdscan_output)\n",
    "\n",
    "# Use regex patterns to extract the site information\n",
    "site_pattern = r\">(\\d+-\\d+-(?:forward|reverse))\\s+Len\\s+\\d+\\s+Site\\s+#\\d+\\s+(f|r)\\s+(\\d+)\\n([ACGT]+)\"\n",
    "site_info = re.findall(site_pattern, mdscan_output)"
   ]
  },
  {
   "attachments": {},
   "cell_type": "markdown",
   "metadata": {},
   "source": [
    "Store the Folders of the results"
   ]
  },
  {
   "cell_type": "code",
   "execution_count": 3,
   "metadata": {},
   "outputs": [
    {
     "data": {
      "text/plain": "['results_meme', 'results_md', 'MDScan', 'results_streme']"
     },
     "execution_count": 3,
     "metadata": {},
     "output_type": "execute_result"
    }
   ],
   "source": [
    "direcrory_of_folders = 'Results/'\n",
    "folders = [folder for folder in os.listdir(direcrory_of_folders) if os.path.isdir(os.path.join(direcrory_of_folders, folder))]\n",
    "folders"
   ]
  },
  {
   "cell_type": "code",
   "execution_count": 4,
   "outputs": [
    {
     "data": {
      "text/plain": "[('1', '15', '1.795', '14', 'CGGAACCGCTGGCGG', 'CCGCCAGCGGTTCCG'),\n ('2', '15', '1.777', '16', 'CCGGAAACGATGGCG', 'CGCCATCGTTTCCGG'),\n ('3', '15', '1.764', '16', 'GGAAGCGCTGGCGGC', 'GCCGCCAGCGCTTCC'),\n ('4', '15', '1.754', '19', 'CGCCGCTGGCGGCTG', 'CAGCCGCCAGCGGCG'),\n ('5', '15', '1.749', '15', 'TATCCGTGACGGTGA', 'TCACCGTCACGGATA')]"
     },
     "execution_count": 4,
     "metadata": {},
     "output_type": "execute_result"
    }
   ],
   "source": [
    "motif_info"
   ],
   "metadata": {
    "collapsed": false,
    "pycharm": {
     "name": "#%%\n"
    }
   }
  },
  {
   "cell_type": "code",
   "execution_count": 5,
   "outputs": [
    {
     "data": {
      "text/plain": "[('209398-209425-forward', 'f', '151', 'AAGCGCCGCTGGCGG'),\n ('209398-209425-forward', 'r', '258', 'CGCCATCGCTTCCGG'),\n ('209398-209425-forward', 'f', '166', 'CTGAAGCGATGGGTA'),\n ('209398-209425-forward', 'f', '229', 'CGGAACCACTGGGTG'),\n ('209398-209425-forward', 'f', '259', 'CGGAAGCGATGGCGG'),\n ('209398-209425-forward', 'f', '286', 'CGCAACTGCTGGCGG'),\n ('2145603-2145630-reverse', 'f', '348', 'TGGAAACGGTCGCGG'),\n ('2308475-2308502-reverse', 'r', '409', 'CGCAAAGCATGTCTG'),\n ('2308475-2308502-reverse', 'f', '36', 'GGAAGCCGATGCCTG'),\n ('2308475-2308502-reverse', 'r', '378', 'GGCAAAAGATGCCTG'),\n ('2308475-2308502-reverse', 'r', '351', 'CGAAAACGAATTCGC'),\n ('2308475-2308502-reverse', 'r', '345', 'CGAATTCGCCGTCGG'),\n ('2308475-2308502-reverse', 'f', '104', 'GGGAAGGGCTGGCGG'),\n ('2308475-2308502-reverse', 'f', '135', 'AGAAGGCGATAGCTT'),\n ('209398-209425-forward', 'r', '286', 'CCGCCAGCAGTTGCG'),\n ('209398-209425-forward', 'r', '271', 'CTTTCAACGATGCCG'),\n ('209398-209425-forward', 'r', '259', 'CCGCCATCGCTTCCG'),\n ('209398-209425-forward', 'f', '165', 'GCTGAAGCGATGGGT'),\n ('209398-209425-forward', 'f', '228', 'CCGGAACCACTGGGT'),\n ('209398-209425-forward', 'f', '258', 'CCGGAAGCGATGGCG'),\n ('209398-209425-forward', 'f', '285', 'GCGCAACTGCTGGCG'),\n ('2145603-2145630-reverse', 'r', '411', 'CCGGAATAGCAGTCA'),\n ('2145603-2145630-reverse', 'f', '151', 'CCGGTGAAGAAGGGG'),\n ('2145603-2145630-reverse', 'f', '347', 'GTGGAAACGGTCGCG'),\n ('2308475-2308502-reverse', 'r', '410', 'CCGCAAAGCATGTCT'),\n ('2308475-2308502-reverse', 'f', '34', 'CTGGAAGCCGATGCC'),\n ('2308475-2308502-reverse', 'r', '379', 'CGGCAAAAGATGCCT'),\n ('2308475-2308502-reverse', 'r', '352', 'GCGAAAACGAATTCG'),\n ('2308475-2308502-reverse', 'f', '103', 'CGGGAAGGGCTGGCG'),\n ('2308475-2308502-reverse', 'f', '345', 'CCGACGGCGAATTCG'),\n ('209398-209425-forward', 'f', '41', 'CGGTGCGCTGGCGAT'),\n ('209398-209425-forward', 'r', '269', 'TTCAACGATGCCGCC'),\n ('209398-209425-forward', 'f', '149', 'CAAAGCGCCGCTGGC'),\n ('209398-209425-forward', 'f', '152', 'AGCGCCGCTGGCGGC'),\n ('209398-209425-forward', 'f', '167', 'TGAAGCGATGGGTAT'),\n ('209398-209425-forward', 'f', '260', 'GGAAGCGATGGCGGC'),\n ('209398-209425-forward', 'f', '287', 'GCAACTGCTGGCGGA'),\n ('2145603-2145630-reverse', 'f', '177', 'CGAAATGTTGCCGTC'),\n ('2145603-2145630-reverse', 'f', '262', 'AGATGCGATGTATAC'),\n ('2145603-2145630-reverse', 'f', '349', 'GGAAACGGTCGCGGA'),\n ('2308475-2308502-reverse', 'f', '27', 'GACGGCGCTGGAAGC'),\n ('2308475-2308502-reverse', 'f', '37', 'GAAGCCGATGCCTGG'),\n ('2308475-2308502-reverse', 'r', '377', 'GCAAAAGATGCCTGT'),\n ('2308475-2308502-reverse', 'r', '344', 'GAATTCGCCGTCGGC'),\n ('2308475-2308502-reverse', 'f', '105', 'GGAAGGGCTGGCGGT'),\n ('2308475-2308502-reverse', 'f', '136', 'GAAGGCGATAGCTTT'),\n ('209398-209425-forward', 'f', '43', 'GTGCGCTGGCGATTG'),\n ('209398-209425-forward', 'r', '288', 'ATCCGCCAGCAGTTG'),\n ('209398-209425-forward', 'f', '154', 'CGCCGCTGGCGGCTG'),\n ('209398-209425-forward', 'f', '157', 'CGCTGGCGGCTGAAG'),\n ('209398-209425-forward', 'f', '262', 'AAGCGATGGCGGCAT'),\n ('209398-209425-forward', 'r', '153', 'AGCCGCCAGCGGCGC'),\n ('209398-209425-forward', 'r', '150', 'CGCCAGCGGCGCTTT'),\n ('209398-209425-forward', 'f', '289', 'AACTGCTGGCGGATC'),\n ('2145603-2145630-reverse', 'f', '32', 'GGCAGCAGCGTGCTG'),\n ('2145603-2145630-reverse', 'r', '287', 'GTCATACGGCGGCTG'),\n ('2145603-2145630-reverse', 'r', '280', 'GGCGGCTGCCAGTTC'),\n ('2145603-2145630-reverse', 'f', '240', 'TGCTGAAAGCGGATG'),\n ('2145603-2145630-reverse', 'f', '278', 'CTGAACTGGCAGCCG'),\n ('2145603-2145630-reverse', 'f', '285', 'GGCAGCCGCCGTATG'),\n ('2308475-2308502-reverse', 'f', '29', 'CGGCGCTGGAAGCCG'),\n ('2308475-2308502-reverse', 'f', '32', 'CGCTGGAAGCCGATG'),\n ('2308475-2308502-reverse', 'r', '339', 'CGCCGTCGGCATTCG'),\n ('2308475-2308502-reverse', 'f', '107', 'AAGGGCTGGCGGTTT'),\n ('2308475-2308502-reverse', 'f', '343', 'TGCCGACGGCGAATT'),\n ('209398-209425-forward', 'f', '14', 'TACGGTTATCGGTGA'),\n ('209398-209425-forward', 'f', '20', 'TATCGGTGAAGGTGG'),\n ('209398-209425-forward', 'r', '368', 'TACGCGTAACCGTAG'),\n ('209398-209425-forward', 'r', '248', 'TCCGGGTTACGGTGA'),\n ('209398-209425-forward', 'r', '220', 'GTTCCGGGATGATGG'),\n ('209398-209425-forward', 'f', '248', 'TCACCGTAACCCGGA'),\n ('209398-209425-forward', 'f', '362', 'GATGAGCTACGGTTA'),\n ('2145603-2145630-reverse', 'f', '143', 'TCCCCATGCCGGTGA'),\n ('2145603-2145630-reverse', 'f', '231', 'TAACGTTTATGCTGA'),\n ('2145603-2145630-reverse', 'r', '143', 'TCACCGGCATGGGGA'),\n ('2145603-2145630-reverse', 'r', '74', 'CATGCGTGACGGTAA'),\n ('2308475-2308502-reverse', 'f', '5', 'TATCCGTGACGGTGA'),\n ('2308475-2308502-reverse', 'f', '68', 'TACTCGGGCCGGAGA'),\n ('2308475-2308502-reverse', 'f', '223', 'TTTGCGTGATGGTGA'),\n ('2308475-2308502-reverse', 'r', '5', 'TCACCGTCACGGATA')]"
     },
     "execution_count": 5,
     "metadata": {},
     "output_type": "execute_result"
    }
   ],
   "source": [
    "site_info"
   ],
   "metadata": {
    "collapsed": false,
    "pycharm": {
     "name": "#%%\n"
    }
   }
  },
  {
   "attachments": {},
   "cell_type": "markdown",
   "metadata": {},
   "source": [
    "Store the names of the outputted files"
   ]
  },
  {
   "cell_type": "code",
   "execution_count": 6,
   "metadata": {},
   "outputs": [],
   "source": [
    "file_path = 'Results/results_md/'\n",
    "\n",
    "txt_files = [file for file in os.listdir(file_path) if file.endswith(\".txt\")]\n",
    "\n",
    "file_names = []\n",
    "\n",
    "for file_name in txt_files:\n",
    "    if '_' in file_name:\n",
    "        name_parts = file_name.split(\"_\")\n",
    "        if len(name_parts) > 1:\n",
    "            name = name_parts[0]\n",
    "            file_names.append(name)"
   ]
  },
  {
   "cell_type": "code",
   "execution_count": 7,
   "metadata": {},
   "outputs": [
    {
     "name": "stdout",
     "output_type": "stream",
     "text": [
      "61\n",
      "OxyR\n",
      "CytR\n",
      "DnaA\n",
      "FruR\n"
     ]
    }
   ],
   "source": [
    "name_counts = Counter(file_names)\n",
    "\n",
    "# Keep only the names that occur more than once\n",
    "unique_names = [name for name, count in name_counts.items() if count > 1]\n",
    "\n",
    "print(len(unique_names))\n",
    "for unique_name in unique_names[:4]:\n",
    "    print(unique_name)"
   ]
  },
  {
   "cell_type": "markdown",
   "metadata": {
    "pycharm": {
     "name": "#%% md\n"
    }
   },
   "source": [
    "# Regex for MEME"
   ]
  },
  {
   "cell_type": "code",
   "execution_count": 11,
   "outputs": [],
   "source": [
    "with open('Results/results_meme/Ada_meme0.txt', 'r') as file:\n",
    "    meme_output = file.read()\n",
    "\n",
    "\n",
    "meme_motif_pattern = r'MOTIF\\s+(?P<motif>\\w+)\\s+MEME-(?P<index>\\d)\\s+width\\s+=\\s+(?P<width>\\d+)\\s+sites\\s+=\\s+(?P<sites>\\d+).+E-value\\s*=\\s*(?P<evalue>\\d+(?:\\.\\d+)?(?:e[+-]?\\d+)?)'\n",
    "meme_motif_info = re.finditer(meme_motif_pattern, meme_output)\n",
    "\n",
    "sites_pattern = r'MEME-(\\d+) sites sorted by position p-value\\n(?:.*\\n){3}((?:(?!-+).*\\n)*)'\n",
    "meme_sites = re.findall(sites_pattern, meme_output)"
   ],
   "metadata": {
    "collapsed": false,
    "pycharm": {
     "name": "#%%\n"
    }
   }
  },
  {
   "cell_type": "code",
   "execution_count": 12,
   "outputs": [
    {
     "name": "stdout",
     "output_type": "stream",
     "text": [
      "{'motif': 'TCTSGCSG', 'index': 1, 'width': 8, 'sites': 15, 'evalue': 1.3}\n",
      "{'motif': 'TGAAARMG', 'index': 2, 'width': 8, 'sites': 11, 'evalue': 920.0}\n",
      "{'motif': 'AGMTTTAAAA', 'index': 3, 'width': 10, 'sites': 2, 'evalue': 10000.0}\n",
      "{'motif': 'TACGGTTA', 'index': 4, 'width': 8, 'sites': 2, 'evalue': 18000.0}\n",
      "{'motif': 'GTGAHGGTG', 'index': 5, 'width': 9, 'sites': 3, 'evalue': 13000.0}\n"
     ]
    },
    {
     "data": {
      "text/plain": "{'Ada_meme0': {'motif0': {'motif': 'TCTSGCSG',\n   'index': 1,\n   'width': 8,\n   'sites': 15,\n   'evalue': 1.3},\n  'motif1': {'motif': 'TGAAARMG',\n   'index': 2,\n   'width': 8,\n   'sites': 11,\n   'evalue': 920.0},\n  'motif2': {'motif': 'AGMTTTAAAA',\n   'index': 3,\n   'width': 10,\n   'sites': 2,\n   'evalue': 10000.0},\n  'motif3': {'motif': 'TACGGTTA',\n   'index': 4,\n   'width': 8,\n   'sites': 2,\n   'evalue': 18000.0},\n  'motif4': {'motif': 'GTGAHGGTG',\n   'index': 5,\n   'width': 9,\n   'sites': 3,\n   'evalue': 13000.0}}}"
     },
     "execution_count": 12,
     "metadata": {},
     "output_type": "execute_result"
    }
   ],
   "source": [
    "meme_dict = {'Ada_meme0': {}}\n",
    "for i, match in enumerate(meme_motif_info):\n",
    "    temp_dict = {'motif': match.group('motif'),\n",
    "                                 'index': int(match.group('index')),\n",
    "                                 'width': int(match.group('width')),\n",
    "                                 'sites': int(match.group('sites')),\n",
    "                                 'evalue': float(match.group('evalue'))\n",
    "                                 }\n",
    "\n",
    "    motif = match.group('motif')\n",
    "    print(temp_dict)\n",
    "    meme_dict['Ada_meme0']['motif'+str(i)] = temp_dict\n",
    "meme_dict"
   ],
   "metadata": {
    "collapsed": false,
    "pycharm": {
     "name": "#%%\n"
    }
   }
  },
  {
   "cell_type": "code",
   "execution_count": 16,
   "outputs": [
    {
     "name": "stdout",
     "output_type": "stream",
     "text": [
      "1\n",
      "[('209398-209425-forward', '302'), ('2145603-2145630-reverse', '322'), ('209398-209425-forward', '106'), ('2145603-2145630-reverse', '382'), ('209398-209425-forward', '36'), ('2308475-2308502-reverse', '398'), ('2308475-2308502-reverse', '361'), ('2308475-2308502-reverse', '111'), ('209398-209425-forward', '293'), ('209398-209425-forward', '158'), ('2308475-2308502-reverse', '386'), ('2308475-2308502-reverse', '97'), ('2308475-2308502-reverse', '71'), ('209398-209425-forward', '311'), ('2145603-2145630-reverse', '398')]\n",
      "2\n",
      "[('2145603-2145630-reverse', '243'), ('209398-209425-forward', '280'), ('209398-209425-forward', '397'), ('209398-209425-forward', '196'), ('2145603-2145630-reverse', '207'), ('2308475-2308502-reverse', '279'), ('209398-209425-forward', '135'), ('2308475-2308502-reverse', '201'), ('2145603-2145630-reverse', '348'), ('2145603-2145630-reverse', '253'), ('2308475-2308502-reverse', '86')]\n",
      "3\n",
      "[('209398-209425-forward', '332'), ('2308475-2308502-reverse', '145')]\n",
      "4\n",
      "[('209398-209425-forward', '369'), ('209398-209425-forward', '14')]\n",
      "5\n",
      "[('2308475-2308502-reverse', '228'), ('209398-209425-forward', '25'), ('2308475-2308502-reverse', '10')]\n"
     ]
    }
   ],
   "source": [
    "meme_site_pattern = r'(\\d+-\\d+-(?:forward|reverse))\\s*(\\d+)'\n",
    "for i, site in enumerate(meme_sites):\n",
    "    print(site[0])\n",
    "    sites_per_motif = re.findall(meme_site_pattern, site[1])\n",
    "    print(sites_per_motif)\n",
    "    temp_dict = {}\n",
    "    # for j, s in enumerate(sites_per_motif):\n",
    "    #     print(j)\n",
    "    #     print(s)\n",
    "    #     temp_dict[j] = {'seq_id': s[0], 'position': s[1]}\n",
    "        # print(temp_dict)"
   ],
   "metadata": {
    "collapsed": false,
    "pycharm": {
     "name": "#%%\n"
    }
   }
  }
 ],
 "metadata": {
  "kernelspec": {
   "display_name": "base",
   "language": "python",
   "name": "python3"
  },
  "language_info": {
   "codemirror_mode": {
    "name": "ipython",
    "version": 3
   },
   "file_extension": ".py",
   "mimetype": "text/x-python",
   "name": "python",
   "nbconvert_exporter": "python",
   "pygments_lexer": "ipython3",
   "version": "3.9.13"
  },
  "orig_nbformat": 4
 },
 "nbformat": 4,
 "nbformat_minor": 2
}