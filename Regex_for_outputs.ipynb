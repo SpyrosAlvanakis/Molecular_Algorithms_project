{
 "cells": [
  {
   "cell_type": "code",
   "execution_count": 2,
   "metadata": {},
   "outputs": [],
   "source": [
    "import os\n",
    "import re\n",
    "from collections import Counter"
   ]
  },
  {
   "cell_type": "code",
   "execution_count": 3,
   "metadata": {},
   "outputs": [],
   "source": [
    "# Read the MDscan output file\n",
    "with open('Results/results_md/Ada_1.txt', 'r') as file:\n",
    "    mdscan_output = file.read()\n",
    "\n",
    "# Use regex patterns to extract the motif information\n",
    "motif_pattern = r\"Motif (\\d+):\\s+Wid (\\d+);\\s+Score ([\\d.]+);\\s+Sites (\\d+);\\s+Con (\\w+);\\s+RCon (\\w+)\"\n",
    "motif_info = re.findall(motif_pattern, mdscan_output)\n",
    "\n",
    "# # Use regex patterns to extract the motif alignment matrix\n",
    "# alignment_pattern = r\"\\d+\\s+(\\d+\\.\\d+)\\s+(\\d+\\.\\d+)\\s+(\\d+\\.\\d+)\\s+(\\d+\\.\\d+)\\s+(\\w+)\\s+(\\w+)\\s+(\\w+)\\s+(\\w+)\"\n",
    "# alignment_matrix = re.findall(alignment_pattern, mdscan_output)\n",
    "\n",
    "# Use regex patterns to extract the site information\n",
    "site_pattern = r\">(\\d+-\\d+-(?:forward|reverse))\\s+Len\\s+\\d+\\s+Site\\s+#\\d+\\s+(f|r)\\s+(\\d+)\\n([ACGT]+)\"\n",
    "site_info = re.findall(site_pattern, mdscan_output)"
   ]
  },
  {
   "attachments": {},
   "cell_type": "markdown",
   "metadata": {},
   "source": [
    "Store the Folders of the results"
   ]
  },
  {
   "cell_type": "code",
   "execution_count": 12,
   "metadata": {},
   "outputs": [
    {
     "data": {
      "text/plain": [
       "['Bioprosector', 'MDScan', 'MotifSampler']"
      ]
     },
     "execution_count": 12,
     "metadata": {},
     "output_type": "execute_result"
    }
   ],
   "source": [
    "direcrory_of_folders = 'Results/'\n",
    "folders = [folder for folder in os.listdir(direcrory_of_folders) if os.path.isdir(os.path.join(direcrory_of_folders, folder))]\n",
    "folders"
   ]
  },
  {
   "attachments": {},
   "cell_type": "markdown",
   "metadata": {},
   "source": [
    "Store the names of the outputted files"
   ]
  },
  {
   "cell_type": "code",
   "execution_count": 67,
   "metadata": {},
   "outputs": [],
   "source": [
    "file_path = 'Results/MDScan/'\n",
    "\n",
    "txt_files = [file for file in os.listdir(file_path) if file.endswith(\".txt\")]\n",
    "\n",
    "file_names = []\n",
    "\n",
    "for file_name in txt_files:\n",
    "    if '_' in file_name:\n",
    "        name_parts = file_name.split(\"_\")\n",
    "        if len(name_parts) > 1:\n",
    "            name = name_parts[0]\n",
    "            file_names.append(name)"
   ]
  },
  {
   "cell_type": "code",
   "execution_count": 72,
   "metadata": {},
   "outputs": [
    {
     "name": "stdout",
     "output_type": "stream",
     "text": [
      "Ada\n",
      "AraC\n",
      "ArcA\n",
      "ArgR\n"
     ]
    }
   ],
   "source": [
    "name_counts = Counter(file_names)\n",
    "\n",
    "# Keep only the names that occur more than once\n",
    "unique_names = [name for name, count in name_counts.items() if count > 1]\n",
    "\n",
    "for unique_name in unique_names[:4]:\n",
    "    print(unique_name)"
   ]
  },
  {
   "cell_type": "code",
   "execution_count": null,
   "metadata": {},
   "outputs": [],
   "source": []
  }
 ],
 "metadata": {
  "kernelspec": {
   "display_name": "base",
   "language": "python",
   "name": "python3"
  },
  "language_info": {
   "codemirror_mode": {
    "name": "ipython",
    "version": 3
   },
   "file_extension": ".py",
   "mimetype": "text/x-python",
   "name": "python",
   "nbconvert_exporter": "python",
   "pygments_lexer": "ipython3",
   "version": "3.9.13"
  },
  "orig_nbformat": 4
 },
 "nbformat": 4,
 "nbformat_minor": 2
}
