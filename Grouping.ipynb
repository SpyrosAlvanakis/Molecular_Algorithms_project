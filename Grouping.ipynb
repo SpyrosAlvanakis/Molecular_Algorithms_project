{
 "cells": [
  {
   "cell_type": "code",
   "execution_count": 1,
   "metadata": {},
   "outputs": [],
   "source": [
    "import pandas as pd \n",
    "import numpy as np\n",
    "import os \n",
    "# import find_file_names\n",
    "from grouping_functions import *"
   ]
  },
  {
   "cell_type": "code",
   "execution_count": 2,
   "metadata": {},
   "outputs": [
    {
     "data": {
      "text/plain": [
       "['meme_sites.csv',\n",
       " 'bioprospector_sites.csv',\n",
       " 'mdscan_sites.csv',\n",
       " 'streme_sites.csv',\n",
       " 'motifSampler_sites.csv']"
      ]
     },
     "execution_count": 2,
     "metadata": {},
     "output_type": "execute_result"
    }
   ],
   "source": [
    "directory_of_files = 'CSVs/'\n",
    "files = [file for file in os.listdir(directory_of_files) if file.endswith('.csv')]\n",
    "files"
   ]
  },
  {
   "cell_type": "code",
   "execution_count": 3,
   "metadata": {},
   "outputs": [],
   "source": [
    "# Make Dataframes with the same names as the folders\n",
    "files = [file for file in files if file != 'streme_sites.csv']\n",
    "\n",
    "dfs_list = []\n",
    "for file in files:\n",
    "    df = pd.read_csv(os.path.join(directory_of_files, file), index_col=0)\n",
    "    df = assign_score_group(df, 'Score', 5)\n",
    "    vars()[file.split('.')[0]] = df\n",
    "    dfs_list.append(vars()[file.split('.')[0]])\n"
   ]
  },
  {
   "cell_type": "code",
   "execution_count": 5,
   "metadata": {},
   "outputs": [],
   "source": [
    "def assign_subgroup(df_list, file_name_col, seq_id_col, score_group_col):\n",
    "    new_df_list = []\n",
    "\n",
    "    for df in df_list:\n",
    "        df['Subgroup'] = df[file_name_col].astype(str) + \"_\" + df[score_group_col].astype(str) + \"_\" + df['Sequence_ID'].astype(str)\n",
    "        new_df_list.append(df)\n",
    "    return new_df_list"
   ]
  },
  {
   "cell_type": "code",
   "execution_count": 22,
   "metadata": {},
   "outputs": [],
   "source": [
    "id_df_list = assign_subgroup(dfs_list, 'File_name','Sequence_ID','Score_group')"
   ]
  },
  {
   "cell_type": "code",
   "execution_count": 24,
   "metadata": {},
   "outputs": [
    {
     "data": {
      "text/html": [
       "<div>\n",
       "<style scoped>\n",
       "    .dataframe tbody tr th:only-of-type {\n",
       "        vertical-align: middle;\n",
       "    }\n",
       "\n",
       "    .dataframe tbody tr th {\n",
       "        vertical-align: top;\n",
       "    }\n",
       "\n",
       "    .dataframe thead th {\n",
       "        text-align: right;\n",
       "    }\n",
       "</style>\n",
       "<table border=\"1\" class=\"dataframe\">\n",
       "  <thead>\n",
       "    <tr style=\"text-align: right;\">\n",
       "      <th></th>\n",
       "      <th>Sequence_ID</th>\n",
       "      <th>Site</th>\n",
       "      <th>Starting_position</th>\n",
       "      <th>Score</th>\n",
       "      <th>Width</th>\n",
       "      <th>File_name</th>\n",
       "      <th>Score_group</th>\n",
       "      <th>Subgroup</th>\n",
       "    </tr>\n",
       "  </thead>\n",
       "  <tbody>\n",
       "    <tr>\n",
       "      <th>0</th>\n",
       "      <td>1030995-1031010-reverse</td>\n",
       "      <td>AAGATAAGGG</td>\n",
       "      <td>377</td>\n",
       "      <td>2600000.0</td>\n",
       "      <td>10</td>\n",
       "      <td>FIS</td>\n",
       "      <td>5</td>\n",
       "      <td>FIS_5_1030995-1031010-reverse</td>\n",
       "    </tr>\n",
       "    <tr>\n",
       "      <th>1</th>\n",
       "      <td>1297670-1297685-reverse</td>\n",
       "      <td>TTTATTAACT</td>\n",
       "      <td>253</td>\n",
       "      <td>2600000.0</td>\n",
       "      <td>10</td>\n",
       "      <td>FIS</td>\n",
       "      <td>5</td>\n",
       "      <td>FIS_5_1297670-1297685-reverse</td>\n",
       "    </tr>\n",
       "    <tr>\n",
       "      <th>2</th>\n",
       "      <td>1297670-1297685-reverse</td>\n",
       "      <td>TTTATTAACT</td>\n",
       "      <td>253</td>\n",
       "      <td>2600000.0</td>\n",
       "      <td>10</td>\n",
       "      <td>FIS</td>\n",
       "      <td>5</td>\n",
       "      <td>FIS_5_1297670-1297685-reverse</td>\n",
       "    </tr>\n",
       "    <tr>\n",
       "      <th>3</th>\n",
       "      <td>1297670-1297685-reverse</td>\n",
       "      <td>TTTATTAACT</td>\n",
       "      <td>253</td>\n",
       "      <td>2600000.0</td>\n",
       "      <td>10</td>\n",
       "      <td>FIS</td>\n",
       "      <td>5</td>\n",
       "      <td>FIS_5_1297670-1297685-reverse</td>\n",
       "    </tr>\n",
       "    <tr>\n",
       "      <th>4</th>\n",
       "      <td>1297670-1297685-reverse</td>\n",
       "      <td>TTTATTAACT</td>\n",
       "      <td>253</td>\n",
       "      <td>2600000.0</td>\n",
       "      <td>10</td>\n",
       "      <td>FIS</td>\n",
       "      <td>5</td>\n",
       "      <td>FIS_5_1297670-1297685-reverse</td>\n",
       "    </tr>\n",
       "  </tbody>\n",
       "</table>\n",
       "</div>"
      ],
      "text/plain": [
       "               Sequence_ID        Site  Starting_position      Score  Width  \\\n",
       "0  1030995-1031010-reverse  AAGATAAGGG                377  2600000.0     10   \n",
       "1  1297670-1297685-reverse  TTTATTAACT                253  2600000.0     10   \n",
       "2  1297670-1297685-reverse  TTTATTAACT                253  2600000.0     10   \n",
       "3  1297670-1297685-reverse  TTTATTAACT                253  2600000.0     10   \n",
       "4  1297670-1297685-reverse  TTTATTAACT                253  2600000.0     10   \n",
       "\n",
       "  File_name Score_group                       Subgroup  \n",
       "0       FIS           5  FIS_5_1030995-1031010-reverse  \n",
       "1       FIS           5  FIS_5_1297670-1297685-reverse  \n",
       "2       FIS           5  FIS_5_1297670-1297685-reverse  \n",
       "3       FIS           5  FIS_5_1297670-1297685-reverse  \n",
       "4       FIS           5  FIS_5_1297670-1297685-reverse  "
      ]
     },
     "execution_count": 24,
     "metadata": {},
     "output_type": "execute_result"
    }
   ],
   "source": [
    "id_df_list[0].head()"
   ]
  },
  {
   "cell_type": "code",
   "execution_count": null,
   "metadata": {},
   "outputs": [],
   "source": []
  },
  {
   "cell_type": "code",
   "execution_count": null,
   "metadata": {},
   "outputs": [],
   "source": []
  }
 ],
 "metadata": {
  "kernelspec": {
   "display_name": "base",
   "language": "python",
   "name": "python3"
  },
  "language_info": {
   "codemirror_mode": {
    "name": "ipython",
    "version": 3
   },
   "file_extension": ".py",
   "mimetype": "text/x-python",
   "name": "python",
   "nbconvert_exporter": "python",
   "pygments_lexer": "ipython3",
   "version": "3.9.13"
  },
  "orig_nbformat": 4
 },
 "nbformat": 4,
 "nbformat_minor": 2
}
