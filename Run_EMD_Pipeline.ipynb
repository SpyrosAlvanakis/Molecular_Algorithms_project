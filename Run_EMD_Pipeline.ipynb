{
 "cells": [
  {
   "cell_type": "markdown",
   "metadata": {
    "collapsed": true,
    "pycharm": {
     "name": "#%% md\n"
    }
   },
   "source": [
    "# Ensemble Motif Discovery (EMD) Algorithm"
   ]
  },
  {
   "cell_type": "markdown",
   "source": [
    "## Libraries"
   ],
   "metadata": {
    "collapsed": false
   }
  },
  {
   "cell_type": "code",
   "execution_count": 6,
   "outputs": [
    {
     "name": "stdout",
     "output_type": "stream",
     "text": [
      "The autoreload extension is already loaded. To reload it, use:\n",
      "  %reload_ext autoreload\n"
     ]
    }
   ],
   "source": [
    "%load_ext autoreload\n",
    "%autoreload 2\n",
    "\n",
    "%matplotlib inline\n",
    "\n",
    "import pandas as pd\n",
    "import os\n",
    "import matplotlib.pyplot as plt\n",
    "import seaborn as sns\n",
    "\n",
    "from parse_mdscam_output import process_MDScan_output\n",
    "from parse_meme_output import parse_meme_files\n",
    "from parse_motifSampler_output import parse_motifSampler_files\n",
    "from parse_bioprospector_output import process_Bioprospector_output\n"
   ],
   "metadata": {
    "collapsed": false,
    "pycharm": {
     "name": "#%%\n"
    }
   }
  },
  {
   "cell_type": "markdown",
   "source": [
    "## The input Datasets\n",
    "\n",
    "A collection of motif groups files, comprising multiple sequence sets from E.Coli genome."
   ],
   "metadata": {
    "collapsed": false,
    "pycharm": {
     "name": "#%% md\n"
    }
   }
  },
  {
   "cell_type": "markdown",
   "source": [
    "## Component Algorithms\n",
    "\n",
    "1. MDScan\n",
    "2. BioProspector\n",
    "3. MEME\n",
    "4. Motif Sampler"
   ],
   "metadata": {
    "collapsed": false,
    "pycharm": {
     "name": "#%% md\n"
    }
   }
  },
  {
   "cell_type": "markdown",
   "source": [
    "## A. Collecting Phase\n",
    "1. Run available component algorithms multiple times on an input dataset\n",
    "2. Parse results txt using regex patterns to create useful motif data structures\n",
    "3. Store results from each algorithm to separate CSVs"
   ],
   "metadata": {
    "collapsed": false
   }
  },
  {
   "cell_type": "markdown",
   "source": [
    "### Parse MDScan motif discovery output files"
   ],
   "metadata": {
    "collapsed": false,
    "pycharm": {
     "name": "#%% md\n"
    }
   }
  },
  {
   "cell_type": "code",
   "execution_count": 3,
   "outputs": [
    {
     "data": {
      "text/plain": "  File_name            Sequence_ID             Site  Score  Starting_position  \\\n0       Ada  209398-209425-forward  AAGCGCCGCTGGCGG  1.795                151   \n1       Ada  209398-209425-forward  CGCCATCGCTTCCGG  1.795                258   \n2       Ada  209398-209425-forward  CTGAAGCGATGGGTA  1.795                166   \n3       Ada  209398-209425-forward  CGGAACCACTGGGTG  1.795                229   \n4       Ada  209398-209425-forward  CGGAAGCGATGGCGG  1.795                259   \n\n   Width  \n0     15  \n1     15  \n2     15  \n3     15  \n4     15  ",
      "text/html": "<div>\n<style scoped>\n    .dataframe tbody tr th:only-of-type {\n        vertical-align: middle;\n    }\n\n    .dataframe tbody tr th {\n        vertical-align: top;\n    }\n\n    .dataframe thead th {\n        text-align: right;\n    }\n</style>\n<table border=\"1\" class=\"dataframe\">\n  <thead>\n    <tr style=\"text-align: right;\">\n      <th></th>\n      <th>File_name</th>\n      <th>Sequence_ID</th>\n      <th>Site</th>\n      <th>Score</th>\n      <th>Starting_position</th>\n      <th>Width</th>\n    </tr>\n  </thead>\n  <tbody>\n    <tr>\n      <th>0</th>\n      <td>Ada</td>\n      <td>209398-209425-forward</td>\n      <td>AAGCGCCGCTGGCGG</td>\n      <td>1.795</td>\n      <td>151</td>\n      <td>15</td>\n    </tr>\n    <tr>\n      <th>1</th>\n      <td>Ada</td>\n      <td>209398-209425-forward</td>\n      <td>CGCCATCGCTTCCGG</td>\n      <td>1.795</td>\n      <td>258</td>\n      <td>15</td>\n    </tr>\n    <tr>\n      <th>2</th>\n      <td>Ada</td>\n      <td>209398-209425-forward</td>\n      <td>CTGAAGCGATGGGTA</td>\n      <td>1.795</td>\n      <td>166</td>\n      <td>15</td>\n    </tr>\n    <tr>\n      <th>3</th>\n      <td>Ada</td>\n      <td>209398-209425-forward</td>\n      <td>CGGAACCACTGGGTG</td>\n      <td>1.795</td>\n      <td>229</td>\n      <td>15</td>\n    </tr>\n    <tr>\n      <th>4</th>\n      <td>Ada</td>\n      <td>209398-209425-forward</td>\n      <td>CGGAAGCGATGGCGG</td>\n      <td>1.795</td>\n      <td>259</td>\n      <td>15</td>\n    </tr>\n  </tbody>\n</table>\n</div>"
     },
     "execution_count": 3,
     "metadata": {},
     "output_type": "execute_result"
    }
   ],
   "source": [
    "mdscan_path = 'Results/MDScan/'  # The directory containing the txt results of all MDScan runs\n",
    "\n",
    "final_df_MD = process_MDScan_output(mdscan_path)\n",
    "\n",
    "final_df_MD.head()"
   ],
   "metadata": {
    "collapsed": false,
    "pycharm": {
     "name": "#%%\n"
    }
   }
  },
  {
   "cell_type": "code",
   "execution_count": 4,
   "outputs": [],
   "source": [
    "final_df_MD.sort_values(by=['File_name', 'Sequence_ID', 'Score'], inplace=True, ascending=False)\n",
    "final_df_MD.reset_index(drop=True, inplace=True)\n",
    "final_df_MD.to_csv('CSVs/mdscan_sites.csv', encoding='utf-8')"
   ],
   "metadata": {
    "collapsed": false,
    "pycharm": {
     "name": "#%%\n"
    }
   }
  },
  {
   "cell_type": "code",
   "execution_count": 5,
   "outputs": [
    {
     "name": "stdout",
     "output_type": "stream",
     "text": [
      "(119190, 6)\n"
     ]
    }
   ],
   "source": [
    "print(final_df_MD.shape)"
   ],
   "metadata": {
    "collapsed": false,
    "pycharm": {
     "name": "#%%\n"
    }
   }
  },
  {
   "cell_type": "markdown",
   "source": [
    "### Parse BioProspector motif discovery output files"
   ],
   "metadata": {
    "collapsed": false,
    "pycharm": {
     "name": "#%% md\n"
    }
   }
  },
  {
   "cell_type": "code",
   "execution_count": 7,
   "outputs": [
    {
     "data": {
      "text/plain": "  File_name              Sequence_ID             Site  Score  \\\n0       Ada    209398-209425-forward  ACGGTGAGCACCACC  1.844   \n1       Ada    209398-209425-forward  GCCGCCATCGCTTCC  1.844   \n2       Ada    209398-209425-forward  ACCGCCAGAACCACC  1.844   \n3       Ada    209398-209425-forward  ACCGTACAAACTACC  1.844   \n4       Ada  2145603-2145630-reverse  ACCGTAATCAAAACC  1.844   \n\n   Starting_position  Width  \n0                254     15  \n1                274     15  \n2                 44     15  \n3                 19     15  \n4                112     15  ",
      "text/html": "<div>\n<style scoped>\n    .dataframe tbody tr th:only-of-type {\n        vertical-align: middle;\n    }\n\n    .dataframe tbody tr th {\n        vertical-align: top;\n    }\n\n    .dataframe thead th {\n        text-align: right;\n    }\n</style>\n<table border=\"1\" class=\"dataframe\">\n  <thead>\n    <tr style=\"text-align: right;\">\n      <th></th>\n      <th>File_name</th>\n      <th>Sequence_ID</th>\n      <th>Site</th>\n      <th>Score</th>\n      <th>Starting_position</th>\n      <th>Width</th>\n    </tr>\n  </thead>\n  <tbody>\n    <tr>\n      <th>0</th>\n      <td>Ada</td>\n      <td>209398-209425-forward</td>\n      <td>ACGGTGAGCACCACC</td>\n      <td>1.844</td>\n      <td>254</td>\n      <td>15</td>\n    </tr>\n    <tr>\n      <th>1</th>\n      <td>Ada</td>\n      <td>209398-209425-forward</td>\n      <td>GCCGCCATCGCTTCC</td>\n      <td>1.844</td>\n      <td>274</td>\n      <td>15</td>\n    </tr>\n    <tr>\n      <th>2</th>\n      <td>Ada</td>\n      <td>209398-209425-forward</td>\n      <td>ACCGCCAGAACCACC</td>\n      <td>1.844</td>\n      <td>44</td>\n      <td>15</td>\n    </tr>\n    <tr>\n      <th>3</th>\n      <td>Ada</td>\n      <td>209398-209425-forward</td>\n      <td>ACCGTACAAACTACC</td>\n      <td>1.844</td>\n      <td>19</td>\n      <td>15</td>\n    </tr>\n    <tr>\n      <th>4</th>\n      <td>Ada</td>\n      <td>2145603-2145630-reverse</td>\n      <td>ACCGTAATCAAAACC</td>\n      <td>1.844</td>\n      <td>112</td>\n      <td>15</td>\n    </tr>\n  </tbody>\n</table>\n</div>"
     },
     "execution_count": 7,
     "metadata": {},
     "output_type": "execute_result"
    }
   ],
   "source": [
    "bioprospector_path = 'Results/Bioprospector/'\n",
    "final_df_BP = process_Bioprospector_output(bioprospector_path)\n",
    "\n",
    "final_df_BP.head()"
   ],
   "metadata": {
    "collapsed": false,
    "pycharm": {
     "name": "#%%\n"
    }
   }
  },
  {
   "cell_type": "code",
   "execution_count": 8,
   "outputs": [],
   "source": [
    "final_df_BP.sort_values(by=['File_name', 'Sequence_ID', 'Score'], inplace=True, ascending=False)\n",
    "final_df_BP.reset_index(drop=True, inplace=True)\n",
    "final_df_BP.to_csv('CSVs/bioprospector_sites.csv', encoding='utf-8')"
   ],
   "metadata": {
    "collapsed": false,
    "pycharm": {
     "name": "#%%\n"
    }
   }
  },
  {
   "cell_type": "code",
   "execution_count": 9,
   "outputs": [
    {
     "name": "stdout",
     "output_type": "stream",
     "text": [
      "(56057, 6)\n"
     ]
    }
   ],
   "source": [
    "print(final_df_BP.shape)"
   ],
   "metadata": {
    "collapsed": false,
    "pycharm": {
     "name": "#%%\n"
    }
   }
  },
  {
   "cell_type": "markdown",
   "source": [
    "## Parse MotifSampler motif discovery output files\n"
   ],
   "metadata": {
    "collapsed": false
   }
  },
  {
   "cell_type": "code",
   "execution_count": 11,
   "outputs": [
    {
     "data": {
      "text/plain": "               Sequence_ID             Site  Starting_position  Score  Width  \\\n0  2716618-2716662-forward  TACATCACTTTGACC               85.0   1.21   15.0   \n1  4131318-4131362-forward  TACATCTCTTTAACC              178.0   1.21   15.0   \n2  4131318-4131362-forward  AACTTCTCTCTAACG              242.0   1.21   15.0   \n3  2716618-2716662-forward  CTGGAACAATGTCCC              249.0   1.21   15.0   \n4    710081-710125-reverse  CCTGTACAATGTCCC              259.0   1.21   15.0   \n\n  File_name  \n0      OxyR  \n1      OxyR  \n2      OxyR  \n3      OxyR  \n4      OxyR  ",
      "text/html": "<div>\n<style scoped>\n    .dataframe tbody tr th:only-of-type {\n        vertical-align: middle;\n    }\n\n    .dataframe tbody tr th {\n        vertical-align: top;\n    }\n\n    .dataframe thead th {\n        text-align: right;\n    }\n</style>\n<table border=\"1\" class=\"dataframe\">\n  <thead>\n    <tr style=\"text-align: right;\">\n      <th></th>\n      <th>Sequence_ID</th>\n      <th>Site</th>\n      <th>Starting_position</th>\n      <th>Score</th>\n      <th>Width</th>\n      <th>File_name</th>\n    </tr>\n  </thead>\n  <tbody>\n    <tr>\n      <th>0</th>\n      <td>2716618-2716662-forward</td>\n      <td>TACATCACTTTGACC</td>\n      <td>85.0</td>\n      <td>1.21</td>\n      <td>15.0</td>\n      <td>OxyR</td>\n    </tr>\n    <tr>\n      <th>1</th>\n      <td>4131318-4131362-forward</td>\n      <td>TACATCTCTTTAACC</td>\n      <td>178.0</td>\n      <td>1.21</td>\n      <td>15.0</td>\n      <td>OxyR</td>\n    </tr>\n    <tr>\n      <th>2</th>\n      <td>4131318-4131362-forward</td>\n      <td>AACTTCTCTCTAACG</td>\n      <td>242.0</td>\n      <td>1.21</td>\n      <td>15.0</td>\n      <td>OxyR</td>\n    </tr>\n    <tr>\n      <th>3</th>\n      <td>2716618-2716662-forward</td>\n      <td>CTGGAACAATGTCCC</td>\n      <td>249.0</td>\n      <td>1.21</td>\n      <td>15.0</td>\n      <td>OxyR</td>\n    </tr>\n    <tr>\n      <th>4</th>\n      <td>710081-710125-reverse</td>\n      <td>CCTGTACAATGTCCC</td>\n      <td>259.0</td>\n      <td>1.21</td>\n      <td>15.0</td>\n      <td>OxyR</td>\n    </tr>\n  </tbody>\n</table>\n</div>"
     },
     "execution_count": 11,
     "metadata": {},
     "output_type": "execute_result"
    }
   ],
   "source": [
    "ms_dir = os.path.join(os.getcwd(), 'Results/MotifSampler')\n",
    "final_df_MS = parse_motifSampler_files(ms_dir)\n",
    "final_df_MS.head()"
   ],
   "metadata": {
    "collapsed": false,
    "pycharm": {
     "name": "#%%\n"
    }
   }
  },
  {
   "cell_type": "code",
   "execution_count": 12,
   "outputs": [],
   "source": [
    "final_df_MS.sort_values(by=['File_name', 'Sequence_ID', 'Score'], inplace=True, ascending=False)\n",
    "final_df_MS.reset_index(drop=True, inplace=True)\n",
    "final_df_MS.to_csv('motifSampler_sites.csv', encoding='utf-8')"
   ],
   "metadata": {
    "collapsed": false,
    "pycharm": {
     "name": "#%%\n"
    }
   }
  },
  {
   "cell_type": "code",
   "execution_count": 13,
   "outputs": [
    {
     "name": "stdout",
     "output_type": "stream",
     "text": [
      "(24015, 6)\n"
     ]
    }
   ],
   "source": [
    "print(final_df_MS.shape)"
   ],
   "metadata": {
    "collapsed": false,
    "pycharm": {
     "name": "#%%\n"
    }
   }
  },
  {
   "cell_type": "markdown",
   "source": [
    "## Parse MEME motif discovery output files"
   ],
   "metadata": {
    "collapsed": false
   }
  },
  {
   "cell_type": "code",
   "execution_count": 14,
   "outputs": [
    {
     "data": {
      "text/plain": "               Sequence_ID        Site  Starting_position  Score  Width  \\\n0  4464895-4464912-reverse  AAGCGCCGCA                140  600.0      8   \n1  4464895-4464912-reverse  GTTAGGCTCA                261  600.0      8   \n2  4464895-4464912-reverse  AGGAGAATCC                157  600.0      8   \n3  1189730-1189747-reverse  ACACTATTTT                252  600.0      8   \n4  1906840-1906857-reverse  ATATCCGCTG                 51  600.0      8   \n\n  File_name  \n0      PhoP  \n1      PhoP  \n2      PhoP  \n3      PhoP  \n4      PhoP  ",
      "text/html": "<div>\n<style scoped>\n    .dataframe tbody tr th:only-of-type {\n        vertical-align: middle;\n    }\n\n    .dataframe tbody tr th {\n        vertical-align: top;\n    }\n\n    .dataframe thead th {\n        text-align: right;\n    }\n</style>\n<table border=\"1\" class=\"dataframe\">\n  <thead>\n    <tr style=\"text-align: right;\">\n      <th></th>\n      <th>Sequence_ID</th>\n      <th>Site</th>\n      <th>Starting_position</th>\n      <th>Score</th>\n      <th>Width</th>\n      <th>File_name</th>\n    </tr>\n  </thead>\n  <tbody>\n    <tr>\n      <th>0</th>\n      <td>4464895-4464912-reverse</td>\n      <td>AAGCGCCGCA</td>\n      <td>140</td>\n      <td>600.0</td>\n      <td>8</td>\n      <td>PhoP</td>\n    </tr>\n    <tr>\n      <th>1</th>\n      <td>4464895-4464912-reverse</td>\n      <td>GTTAGGCTCA</td>\n      <td>261</td>\n      <td>600.0</td>\n      <td>8</td>\n      <td>PhoP</td>\n    </tr>\n    <tr>\n      <th>2</th>\n      <td>4464895-4464912-reverse</td>\n      <td>AGGAGAATCC</td>\n      <td>157</td>\n      <td>600.0</td>\n      <td>8</td>\n      <td>PhoP</td>\n    </tr>\n    <tr>\n      <th>3</th>\n      <td>1189730-1189747-reverse</td>\n      <td>ACACTATTTT</td>\n      <td>252</td>\n      <td>600.0</td>\n      <td>8</td>\n      <td>PhoP</td>\n    </tr>\n    <tr>\n      <th>4</th>\n      <td>1906840-1906857-reverse</td>\n      <td>ATATCCGCTG</td>\n      <td>51</td>\n      <td>600.0</td>\n      <td>8</td>\n      <td>PhoP</td>\n    </tr>\n  </tbody>\n</table>\n</div>"
     },
     "execution_count": 14,
     "metadata": {},
     "output_type": "execute_result"
    }
   ],
   "source": [
    "meme_dir = os.path.join(os.getcwd(), 'Results/MEME')\n",
    "final_df_ME = parse_meme_files(meme_dir)\n",
    "final_df_ME.head()"
   ],
   "metadata": {
    "collapsed": false,
    "pycharm": {
     "name": "#%%\n"
    }
   }
  },
  {
   "cell_type": "code",
   "execution_count": 15,
   "outputs": [],
   "source": [
    "final_df_ME.sort_values(by=['File_name', 'Sequence_ID', 'Score'], inplace=True, ascending=False)\n",
    "final_df_ME.reset_index(drop=True, inplace=True)\n",
    "final_df_ME.to_csv('CSVs/meme_sites.csv', encoding='utf-8')"
   ],
   "metadata": {
    "collapsed": false,
    "pycharm": {
     "name": "#%%\n"
    }
   }
  },
  {
   "cell_type": "code",
   "execution_count": 16,
   "outputs": [
    {
     "name": "stdout",
     "output_type": "stream",
     "text": [
      "(28690, 6)\n"
     ]
    }
   ],
   "source": [
    "print(final_df_ME.shape)"
   ],
   "metadata": {
    "collapsed": false,
    "pycharm": {
     "name": "#%%\n"
    }
   }
  },
  {
   "cell_type": "markdown",
   "source": [
    "## B. Grouping Phase\n",
    "\n"
   ],
   "metadata": {
    "collapsed": false
   }
  }
 ],
 "metadata": {
  "kernelspec": {
   "display_name": "Python 3",
   "language": "python",
   "name": "python3"
  },
  "language_info": {
   "codemirror_mode": {
    "name": "ipython",
    "version": 2
   },
   "file_extension": ".py",
   "mimetype": "text/x-python",
   "name": "python",
   "nbconvert_exporter": "python",
   "pygments_lexer": "ipython2",
   "version": "2.7.6"
  }
 },
 "nbformat": 4,
 "nbformat_minor": 0
}